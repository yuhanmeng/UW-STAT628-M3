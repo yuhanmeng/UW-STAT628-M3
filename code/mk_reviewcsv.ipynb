{
 "cells": [
  {
   "cell_type": "code",
   "execution_count": 19,
   "metadata": {},
   "outputs": [
    {
     "data": {
      "text/plain": [
       "'/Users/wangqiaoyu/Desktop/UW-Madion /628/Module3/data'"
      ]
     },
     "execution_count": 19,
     "metadata": {},
     "output_type": "execute_result"
    }
   ],
   "source": [
    "import os\n",
    "os.chdir(path=\"/Users/wangqiaoyu/Desktop/UW-Madion /628/Module3/data/\")\n",
    "os.getcwd()"
   ]
  },
  {
   "cell_type": "code",
   "execution_count": 20,
   "metadata": {},
   "outputs": [
    {
     "name": "stdout",
     "output_type": "stream",
     "text": [
      "(4524, 15)\n"
     ]
    }
   ],
   "source": [
    "import pandas as pd\n",
    "csv_data = pd.read_csv('PA_business_cleaning.csv')  # read table\n",
    "print(csv_data.shape) "
   ]
  },
  {
   "cell_type": "code",
   "execution_count": 23,
   "metadata": {},
   "outputs": [],
   "source": [
    "businessid_goal=list(csv_data[\"business_id\"])"
   ]
  },
  {
   "cell_type": "code",
   "execution_count": 24,
   "metadata": {},
   "outputs": [],
   "source": [
    "import json\n",
    "with open('review.json', encoding='utf-8') as g:\n",
    "    iter_g = iter(g)\n",
    "    line2 = g.readline()\n",
    "    text2 = []\n",
    "    for line2 in iter_g: \n",
    "        d = json.loads(line2)\n",
    "        text2.append(d)\n",
    "    g.close()"
   ]
  },
  {
   "cell_type": "code",
   "execution_count": 25,
   "metadata": {},
   "outputs": [],
   "source": [
    "d=dict()  #make dictionary of review\n",
    "j=0\n",
    "for i in range(len(text2)):\n",
    "    s=text2[i]['business_id']\n",
    "    if type(s)==str:\n",
    "        if s in businessid_goal:\n",
    "            d[j]=text2[i]\n",
    "            j=j+1\n",
    "   "
   ]
  },
  {
   "cell_type": "code",
   "execution_count": 26,
   "metadata": {},
   "outputs": [],
   "source": [
    "import pandas as pd   #transform dictionary to csv\n",
    "df=pd.DataFrame.from_dict(d)"
   ]
  },
  {
   "cell_type": "code",
   "execution_count": 27,
   "metadata": {},
   "outputs": [
    {
     "name": "stdout",
     "output_type": "stream",
     "text": [
      "(9, 214443)\n"
     ]
    }
   ],
   "source": [
    "print(df.shape)"
   ]
  },
  {
   "cell_type": "code",
   "execution_count": 28,
   "metadata": {},
   "outputs": [],
   "source": [
    "finaldf=df.T"
   ]
  },
  {
   "cell_type": "code",
   "execution_count": 29,
   "metadata": {},
   "outputs": [
    {
     "data": {
      "text/html": [
       "<div>\n",
       "<style scoped>\n",
       "    .dataframe tbody tr th:only-of-type {\n",
       "        vertical-align: middle;\n",
       "    }\n",
       "\n",
       "    .dataframe tbody tr th {\n",
       "        vertical-align: top;\n",
       "    }\n",
       "\n",
       "    .dataframe thead th {\n",
       "        text-align: right;\n",
       "    }\n",
       "</style>\n",
       "<table border=\"1\" class=\"dataframe\">\n",
       "  <thead>\n",
       "    <tr style=\"text-align: right;\">\n",
       "      <th></th>\n",
       "      <th>review_id</th>\n",
       "      <th>user_id</th>\n",
       "      <th>business_id</th>\n",
       "      <th>stars</th>\n",
       "      <th>useful</th>\n",
       "      <th>funny</th>\n",
       "      <th>cool</th>\n",
       "      <th>text</th>\n",
       "      <th>date</th>\n",
       "    </tr>\n",
       "  </thead>\n",
       "  <tbody>\n",
       "    <tr>\n",
       "      <td>0</td>\n",
       "      <td>fdiNeiN_hoCxCMy2wTRW9g</td>\n",
       "      <td>w31MKYsNFMrjhWxxAb5wIw</td>\n",
       "      <td>eU_713ec6fTGNO4BegRaww</td>\n",
       "      <td>4</td>\n",
       "      <td>0</td>\n",
       "      <td>0</td>\n",
       "      <td>0</td>\n",
       "      <td>I'll be the first to admit that I was not exci...</td>\n",
       "      <td>2013-01-20 13:25:59</td>\n",
       "    </tr>\n",
       "    <tr>\n",
       "      <td>1</td>\n",
       "      <td>Z7wgXp98wYB57QdRY3HQ3w</td>\n",
       "      <td>GYNnVehQeXjty0xH7-6Fhw</td>\n",
       "      <td>FxLfqxdYPA6Z85PFKaqLrg</td>\n",
       "      <td>4</td>\n",
       "      <td>0</td>\n",
       "      <td>0</td>\n",
       "      <td>0</td>\n",
       "      <td>Wow. So surprised at the one and two star revi...</td>\n",
       "      <td>2016-05-07 01:36:53</td>\n",
       "    </tr>\n",
       "    <tr>\n",
       "      <td>2</td>\n",
       "      <td>IPw8yWiyqnfBzzWmypUHgg</td>\n",
       "      <td>5JVY32_bmTBfIGpCCsnAfw</td>\n",
       "      <td>Mem13A3C202RzT53npn4NA</td>\n",
       "      <td>5</td>\n",
       "      <td>9</td>\n",
       "      <td>6</td>\n",
       "      <td>9</td>\n",
       "      <td>If you are looking for the best pierogies in P...</td>\n",
       "      <td>2017-05-13 10:41:43</td>\n",
       "    </tr>\n",
       "    <tr>\n",
       "      <td>3</td>\n",
       "      <td>1daGBpea0sleayFeeXuoYw</td>\n",
       "      <td>q3GeSW9dWN9r_ocqFkhrvg</td>\n",
       "      <td>9nTF596jDvBBia2EXXiOOg</td>\n",
       "      <td>1</td>\n",
       "      <td>1</td>\n",
       "      <td>0</td>\n",
       "      <td>0</td>\n",
       "      <td>if i can give this place no stars i would, i o...</td>\n",
       "      <td>2014-04-19 15:03:17</td>\n",
       "    </tr>\n",
       "    <tr>\n",
       "      <td>4</td>\n",
       "      <td>RLbWoIri29BcQ8yjzsvQLQ</td>\n",
       "      <td>_o740mSNRhMNYuPjSJoPLg</td>\n",
       "      <td>sMzNLdhJZGzYirIWt-fMAg</td>\n",
       "      <td>5</td>\n",
       "      <td>0</td>\n",
       "      <td>0</td>\n",
       "      <td>0</td>\n",
       "      <td>This place epitomizes the rumored transformati...</td>\n",
       "      <td>2015-06-21 00:59:14</td>\n",
       "    </tr>\n",
       "  </tbody>\n",
       "</table>\n",
       "</div>"
      ],
      "text/plain": [
       "                review_id                 user_id             business_id  \\\n",
       "0  fdiNeiN_hoCxCMy2wTRW9g  w31MKYsNFMrjhWxxAb5wIw  eU_713ec6fTGNO4BegRaww   \n",
       "1  Z7wgXp98wYB57QdRY3HQ3w  GYNnVehQeXjty0xH7-6Fhw  FxLfqxdYPA6Z85PFKaqLrg   \n",
       "2  IPw8yWiyqnfBzzWmypUHgg  5JVY32_bmTBfIGpCCsnAfw  Mem13A3C202RzT53npn4NA   \n",
       "3  1daGBpea0sleayFeeXuoYw  q3GeSW9dWN9r_ocqFkhrvg  9nTF596jDvBBia2EXXiOOg   \n",
       "4  RLbWoIri29BcQ8yjzsvQLQ  _o740mSNRhMNYuPjSJoPLg  sMzNLdhJZGzYirIWt-fMAg   \n",
       "\n",
       "  stars useful funny cool                                               text  \\\n",
       "0     4      0     0    0  I'll be the first to admit that I was not exci...   \n",
       "1     4      0     0    0  Wow. So surprised at the one and two star revi...   \n",
       "2     5      9     6    9  If you are looking for the best pierogies in P...   \n",
       "3     1      1     0    0  if i can give this place no stars i would, i o...   \n",
       "4     5      0     0    0  This place epitomizes the rumored transformati...   \n",
       "\n",
       "                  date  \n",
       "0  2013-01-20 13:25:59  \n",
       "1  2016-05-07 01:36:53  \n",
       "2  2017-05-13 10:41:43  \n",
       "3  2014-04-19 15:03:17  \n",
       "4  2015-06-21 00:59:14  "
      ]
     },
     "execution_count": 29,
     "metadata": {},
     "output_type": "execute_result"
    }
   ],
   "source": [
    "finaldf[0:5]"
   ]
  },
  {
   "cell_type": "code",
   "execution_count": 30,
   "metadata": {},
   "outputs": [],
   "source": [
    "finaldf.to_csv('/Users/wangqiaoyu/Desktop/UW-Madion /628/Module3/data/PAreview.csv')"
   ]
  },
  {
   "cell_type": "code",
   "execution_count": 31,
   "metadata": {},
   "outputs": [],
   "source": [
    "import json\n",
    "with open('tip.json', encoding='utf-8') as k:\n",
    "    iter_k = iter(k)\n",
    "    line3 = k.readline()\n",
    "    text3 = []\n",
    "    for line3 in iter_k: \n",
    "        d = json.loads(line3)\n",
    "        text3.append(d)\n",
    "    k.close()"
   ]
  },
  {
   "cell_type": "code",
   "execution_count": 34,
   "metadata": {},
   "outputs": [],
   "source": [
    "d2=dict()\n",
    "j=0\n",
    "for i in range(len(text3)):\n",
    "    s=text3[i]['business_id']\n",
    "    if type(s)==str:\n",
    "        if s in businessid_goal:\n",
    "            d2[j]=text3[i]\n",
    "            j=j+1"
   ]
  },
  {
   "cell_type": "code",
   "execution_count": 35,
   "metadata": {},
   "outputs": [],
   "source": [
    "df2=pd.DataFrame.from_dict(d2)"
   ]
  },
  {
   "cell_type": "code",
   "execution_count": 36,
   "metadata": {},
   "outputs": [
    {
     "name": "stdout",
     "output_type": "stream",
     "text": [
      "(5, 32786)\n"
     ]
    }
   ],
   "source": [
    "print(df2.shape)"
   ]
  },
  {
   "cell_type": "code",
   "execution_count": 37,
   "metadata": {},
   "outputs": [
    {
     "data": {
      "text/html": [
       "<div>\n",
       "<style scoped>\n",
       "    .dataframe tbody tr th:only-of-type {\n",
       "        vertical-align: middle;\n",
       "    }\n",
       "\n",
       "    .dataframe tbody tr th {\n",
       "        vertical-align: top;\n",
       "    }\n",
       "\n",
       "    .dataframe thead th {\n",
       "        text-align: right;\n",
       "    }\n",
       "</style>\n",
       "<table border=\"1\" class=\"dataframe\">\n",
       "  <thead>\n",
       "    <tr style=\"text-align: right;\">\n",
       "      <th></th>\n",
       "      <th>user_id</th>\n",
       "      <th>business_id</th>\n",
       "      <th>text</th>\n",
       "      <th>date</th>\n",
       "      <th>compliment_count</th>\n",
       "    </tr>\n",
       "  </thead>\n",
       "  <tbody>\n",
       "    <tr>\n",
       "      <td>0</td>\n",
       "      <td>CbmNBkKa9QKNxPiN_whFUw</td>\n",
       "      <td>xZfPdAYeimiruXuGR4nSUA</td>\n",
       "      <td>Dinner!!</td>\n",
       "      <td>2011-04-21 22:43:28</td>\n",
       "      <td>0</td>\n",
       "    </tr>\n",
       "    <tr>\n",
       "      <td>1</td>\n",
       "      <td>3KkT6SmPFLGvBS1pnDBr8g</td>\n",
       "      <td>D2nfOrnJ2OBlX_428sKyMg</td>\n",
       "      <td>Long lines at lunch!!</td>\n",
       "      <td>2011-12-30 17:10:16</td>\n",
       "      <td>0</td>\n",
       "    </tr>\n",
       "    <tr>\n",
       "      <td>2</td>\n",
       "      <td>pDAqvfflIM4AM23VRpqAaw</td>\n",
       "      <td>0PVxodALQu-soL5J8bjerQ</td>\n",
       "      <td>If there's a more authentic breakfast place in...</td>\n",
       "      <td>2012-07-24 16:24:09</td>\n",
       "      <td>0</td>\n",
       "    </tr>\n",
       "    <tr>\n",
       "      <td>3</td>\n",
       "      <td>A69QAmKSdW45kUIqd4FESg</td>\n",
       "      <td>0NoHJtug9xefI2OnsANaMA</td>\n",
       "      <td>Everything on the menu is fabulous! Never had ...</td>\n",
       "      <td>2012-11-02 02:23:20</td>\n",
       "      <td>0</td>\n",
       "    </tr>\n",
       "    <tr>\n",
       "      <td>4</td>\n",
       "      <td>J1eLG-wXf4D_vcUhGvq2ZA</td>\n",
       "      <td>1cGyzWtfOoDiE8V0OR85yA</td>\n",
       "      <td>Bring cash, they don't take cards.</td>\n",
       "      <td>2014-04-06 19:24:11</td>\n",
       "      <td>0</td>\n",
       "    </tr>\n",
       "  </tbody>\n",
       "</table>\n",
       "</div>"
      ],
      "text/plain": [
       "                  user_id             business_id  \\\n",
       "0  CbmNBkKa9QKNxPiN_whFUw  xZfPdAYeimiruXuGR4nSUA   \n",
       "1  3KkT6SmPFLGvBS1pnDBr8g  D2nfOrnJ2OBlX_428sKyMg   \n",
       "2  pDAqvfflIM4AM23VRpqAaw  0PVxodALQu-soL5J8bjerQ   \n",
       "3  A69QAmKSdW45kUIqd4FESg  0NoHJtug9xefI2OnsANaMA   \n",
       "4  J1eLG-wXf4D_vcUhGvq2ZA  1cGyzWtfOoDiE8V0OR85yA   \n",
       "\n",
       "                                                text                 date  \\\n",
       "0                                           Dinner!!  2011-04-21 22:43:28   \n",
       "1                              Long lines at lunch!!  2011-12-30 17:10:16   \n",
       "2  If there's a more authentic breakfast place in...  2012-07-24 16:24:09   \n",
       "3  Everything on the menu is fabulous! Never had ...  2012-11-02 02:23:20   \n",
       "4                 Bring cash, they don't take cards.  2014-04-06 19:24:11   \n",
       "\n",
       "  compliment_count  \n",
       "0                0  \n",
       "1                0  \n",
       "2                0  \n",
       "3                0  \n",
       "4                0  "
      ]
     },
     "execution_count": 37,
     "metadata": {},
     "output_type": "execute_result"
    }
   ],
   "source": [
    "finaldf2=df2.T\n",
    "finaldf2[0:5]"
   ]
  },
  {
   "cell_type": "code",
   "execution_count": 38,
   "metadata": {},
   "outputs": [],
   "source": [
    "finaldf2.to_csv('/Users/wangqiaoyu/Desktop/UW-Madion /628/Module3/data/PAtip.csv') # make a output of csv"
   ]
  }
 ],
 "metadata": {
  "kernelspec": {
   "display_name": "Python 3",
   "language": "python",
   "name": "python3"
  },
  "language_info": {
   "codemirror_mode": {
    "name": "ipython",
    "version": 3
   },
   "file_extension": ".py",
   "mimetype": "text/x-python",
   "name": "python",
   "nbconvert_exporter": "python",
   "pygments_lexer": "ipython3",
   "version": "3.6.8"
  }
 },
 "nbformat": 4,
 "nbformat_minor": 2
}
