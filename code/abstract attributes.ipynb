{
 "cells": [
  {
   "cell_type": "code",
   "execution_count": 21,
   "metadata": {},
   "outputs": [],
   "source": [
    "import pandas as pd\n",
    "import csv\n",
    "data = [] \n",
    "cf = open(\"/Users/apple/Documents/Wisc/study/2019Fall/STAT 628/Module3/PA_business_cleaning.csv\",'r', encoding='utf-8',errors='ignore')\n",
    "\n",
    "file = csv.DictReader(cf)\n",
    "\n",
    "for x in file:\n",
    "    line = {'business_id':x['business_id'],'attributes':x['attributes'],'stars':x['stars']}\n",
    "    data.append(line)\n",
    "\n",
    "cf.close()"
   ]
  },
  {
   "cell_type": "code",
   "execution_count": 2,
   "metadata": {},
   "outputs": [
    {
     "data": {
      "text/plain": [
       "4524"
      ]
     },
     "execution_count": 2,
     "metadata": {},
     "output_type": "execute_result"
    }
   ],
   "source": [
    "len(data)"
   ]
  },
  {
   "cell_type": "markdown",
   "metadata": {},
   "source": [
    "# extract all the dict in dict out"
   ]
  },
  {
   "cell_type": "code",
   "execution_count": 3,
   "metadata": {},
   "outputs": [],
   "source": [
    "def convert_to_dict(attr2):\n",
    "    k=[]\n",
    "    d=dict()\n",
    "    for i in attr2.keys():\n",
    "        attr2[i]=eval(attr2[i])\n",
    "        if type(attr2[i])==dict:\n",
    "            l=attr2[i].keys()\n",
    "            for j in l:\n",
    "                k.append(i+'_'+j)\n",
    "                d[i+'_'+j]=attr2[i][j]\n",
    "        else:\n",
    "            k.append(i)\n",
    "            d[i]=attr2[i]\n",
    "    return(d)\n",
    "        "
   ]
  },
  {
   "cell_type": "code",
   "execution_count": 4,
   "metadata": {},
   "outputs": [],
   "source": [
    "l=[]#be careful there are some business whose attributes is '',hence we need to use if-else\n",
    "for i in range(0,len(data)):\n",
    "    attr=data[i]\n",
    "    attr1=attr['attributes']\n",
    "    if attr1!='':\n",
    "        attr2=eval(attr1)\n",
    "        attr_new=convert_to_dict(attr2)\n",
    "        d=dict()\n",
    "        d['business_id']=attr['business_id']\n",
    "        d['stars']=attr['stars']\n",
    "        d['attributes']=attr_new\n",
    "        l.append(d)\n",
    "    else:\n",
    "        d=dict()\n",
    "        d['business_id']=attr['business_id']\n",
    "        d['stars']=attr['stars']\n",
    "        d['attributes']=attr['attributes']\n",
    "        l.append(d)"
   ]
  },
  {
   "cell_type": "code",
   "execution_count": 5,
   "metadata": {},
   "outputs": [
    {
     "data": {
      "text/plain": [
       "[{'business_id': '5G9aIrRiCD4TZCC5j2D39A',\n",
       "  'stars': '4.0',\n",
       "  'attributes': {'BusinessAcceptsCreditCards': True,\n",
       "   'GoodForKids': False,\n",
       "   'BusinessParking_garage': False,\n",
       "   'BusinessParking_street': False,\n",
       "   'BusinessParking_validated': False,\n",
       "   'BusinessParking_lot': False,\n",
       "   'BusinessParking_valet': False,\n",
       "   'RestaurantsReservations': False,\n",
       "   'BikeParking': False,\n",
       "   'HasTV': False,\n",
       "   'Caters': False,\n",
       "   'RestaurantsTakeOut': True,\n",
       "   'RestaurantsGoodForGroups': True,\n",
       "   'OutdoorSeating': False,\n",
       "   'NoiseLevel': 'average',\n",
       "   'WiFi': 'free',\n",
       "   'RestaurantsAttire': 'casual',\n",
       "   'RestaurantsPriceRange2': 1,\n",
       "   'RestaurantsDelivery': False,\n",
       "   'Alcohol': 'none',\n",
       "   'Ambience_romantic': False,\n",
       "   'Ambience_intimate': False,\n",
       "   'Ambience_classy': False,\n",
       "   'Ambience_hipster': False,\n",
       "   'Ambience_divey': False,\n",
       "   'Ambience_touristy': False,\n",
       "   'Ambience_trendy': False,\n",
       "   'Ambience_upscale': False,\n",
       "   'Ambience_casual': False}},\n",
       " {'business_id': 'K0dp91jd_vqW4uNgvW6oag',\n",
       "  'stars': '3.0',\n",
       "  'attributes': {'NoiseLevel': 'average',\n",
       "   'RestaurantsGoodForGroups': False,\n",
       "   'RestaurantsAttire': 'casual',\n",
       "   'HasTV': True,\n",
       "   'Caters': False,\n",
       "   'RestaurantsReservations': False,\n",
       "   'Ambience_romantic': False,\n",
       "   'Ambience_intimate': False,\n",
       "   'Ambience_classy': False,\n",
       "   'Ambience_hipster': False,\n",
       "   'Ambience_divey': False,\n",
       "   'Ambience_touristy': False,\n",
       "   'Ambience_trendy': False,\n",
       "   'Ambience_upscale': False,\n",
       "   'Ambience_casual': True,\n",
       "   'GoodForKids': True,\n",
       "   'RestaurantsPriceRange2': 1,\n",
       "   'WiFi': 'no',\n",
       "   'OutdoorSeating': False,\n",
       "   'BusinessParking_garage': False,\n",
       "   'BusinessParking_street': False,\n",
       "   'BusinessParking_validated': False,\n",
       "   'BusinessParking_lot': True,\n",
       "   'BusinessParking_valet': False,\n",
       "   'Alcohol': 'none',\n",
       "   'RestaurantsDelivery': False,\n",
       "   'RestaurantsTakeOut': True,\n",
       "   'BikeParking': False,\n",
       "   'BusinessAcceptsCreditCards': True,\n",
       "   'GoodForMeal_dessert': False,\n",
       "   'GoodForMeal_latenight': False,\n",
       "   'GoodForMeal_lunch': True,\n",
       "   'GoodForMeal_dinner': False,\n",
       "   'GoodForMeal_brunch': True,\n",
       "   'GoodForMeal_breakfast': True}},\n",
       " {'business_id': 'JGXkldESnG69YXlSNVAgJQ', 'stars': '2.0', 'attributes': ''}]"
      ]
     },
     "execution_count": 5,
     "metadata": {},
     "output_type": "execute_result"
    }
   ],
   "source": [
    "l[30:33]"
   ]
  },
  {
   "cell_type": "markdown",
   "metadata": {},
   "source": [
    "# find all the attributes"
   ]
  },
  {
   "cell_type": "code",
   "execution_count": 11,
   "metadata": {},
   "outputs": [],
   "source": [
    "l1=[]\n",
    "for j in range(0,len(l)):\n",
    "    if l[j][\"attributes\"]!=\"\":\n",
    "        for i in l[j][\"attributes\"].keys():\n",
    "            l1.append(i)\n",
    "    else:\n",
    "        continue\n"
   ]
  },
  {
   "cell_type": "code",
   "execution_count": 12,
   "metadata": {},
   "outputs": [
    {
     "data": {
      "text/plain": [
       "112163"
      ]
     },
     "execution_count": 12,
     "metadata": {},
     "output_type": "execute_result"
    }
   ],
   "source": [
    "len(l1)"
   ]
  },
  {
   "cell_type": "code",
   "execution_count": 13,
   "metadata": {},
   "outputs": [
    {
     "data": {
      "text/plain": [
       "70"
      ]
     },
     "execution_count": 13,
     "metadata": {},
     "output_type": "execute_result"
    }
   ],
   "source": [
    "len(set(l1))#the number of all the attributes"
   ]
  },
  {
   "cell_type": "code",
   "execution_count": 14,
   "metadata": {},
   "outputs": [],
   "source": [
    "all_attr=list(set(l1))#the list of all the attributes"
   ]
  },
  {
   "cell_type": "code",
   "execution_count": 15,
   "metadata": {},
   "outputs": [
    {
     "data": {
      "text/plain": [
       "['CoatCheck',\n",
       " 'Ambience_divey',\n",
       " 'Music_background_music',\n",
       " 'BYOBCorkage',\n",
       " 'Alcohol',\n",
       " 'ByAppointmentOnly',\n",
       " 'BestNights',\n",
       " 'BestNights_tuesday',\n",
       " 'GoodForKids',\n",
       " 'NoiseLevel',\n",
       " 'GoodForMeal_dinner',\n",
       " 'WheelchairAccessible',\n",
       " 'Ambience_classy',\n",
       " 'AgesAllowed',\n",
       " 'Open24Hours',\n",
       " 'GoodForMeal_lunch',\n",
       " 'Music_video',\n",
       " 'RestaurantsAttire',\n",
       " 'GoodForMeal_dessert',\n",
       " 'Smoking',\n",
       " 'Music_live',\n",
       " 'BikeParking',\n",
       " 'GoodForMeal_breakfast',\n",
       " 'BusinessParking',\n",
       " 'Ambience_hipster',\n",
       " 'WiFi',\n",
       " 'Ambience_upscale',\n",
       " 'BestNights_wednesday',\n",
       " 'RestaurantsGoodForGroups',\n",
       " 'BusinessParking_valet',\n",
       " 'BestNights_saturday',\n",
       " 'Ambience_touristy',\n",
       " 'BusinessParking_street',\n",
       " 'BusinessAcceptsBitcoin',\n",
       " 'BestNights_monday',\n",
       " 'GoodForDancing',\n",
       " 'GoodForMeal_latenight',\n",
       " 'BusinessParking_validated',\n",
       " 'RestaurantsTableService',\n",
       " 'Music_no_music',\n",
       " 'RestaurantsReservations',\n",
       " 'BYOB',\n",
       " 'AcceptsInsurance',\n",
       " 'Ambience_romantic',\n",
       " 'HappyHour',\n",
       " 'Music_jukebox',\n",
       " 'Caters',\n",
       " 'OutdoorSeating',\n",
       " 'GoodForMeal',\n",
       " 'BusinessParking_lot',\n",
       " 'Corkage',\n",
       " 'Ambience',\n",
       " 'BestNights_friday',\n",
       " 'Music_dj',\n",
       " 'BusinessAcceptsCreditCards',\n",
       " 'DriveThru',\n",
       " 'Ambience_trendy',\n",
       " 'GoodForMeal_brunch',\n",
       " 'BestNights_thursday',\n",
       " 'DogsAllowed',\n",
       " 'BestNights_sunday',\n",
       " 'Ambience_intimate',\n",
       " 'RestaurantsPriceRange2',\n",
       " 'Music',\n",
       " 'RestaurantsDelivery',\n",
       " 'RestaurantsTakeOut',\n",
       " 'HasTV',\n",
       " 'Music_karaoke',\n",
       " 'Ambience_casual',\n",
       " 'BusinessParking_garage']"
      ]
     },
     "execution_count": 15,
     "metadata": {},
     "output_type": "execute_result"
    }
   ],
   "source": [
    "all_attr"
   ]
  },
  {
   "cell_type": "code",
   "execution_count": 16,
   "metadata": {},
   "outputs": [],
   "source": [
    "#since the attribures of 32 is '',use this to try\n",
    "new_d=dict()\n",
    "for i in all_attr:\n",
    "    if l[32]['attributes']=='':\n",
    "        new_d[i]='Na'"
   ]
  },
  {
   "cell_type": "code",
   "execution_count": 17,
   "metadata": {},
   "outputs": [],
   "source": [
    "#this is the normal attributes\n",
    "new_d=dict()\n",
    "for i in all_attr:\n",
    "    if i in l[0]['attributes'].keys() :\n",
    "        new_d[i]=l[0]['attributes'][i]\n",
    "    else:\n",
    "        new_d[i]='Na'"
   ]
  },
  {
   "cell_type": "markdown",
   "metadata": {},
   "source": [
    "# put all the attr out"
   ]
  },
  {
   "cell_type": "code",
   "execution_count": 18,
   "metadata": {},
   "outputs": [],
   "source": [
    "l_new=[]\n",
    "for i in range(0,len(l)):\n",
    "    d=dict()\n",
    "    d['business_id']=l[i]['business_id']\n",
    "    d['stars']=l[i]['stars']\n",
    "    if l[i]['attributes']=='':\n",
    "        for j in all_attr:\n",
    "            d[j]='Na'\n",
    "    else:\n",
    "        for j in all_attr:\n",
    "            if j in l[i]['attributes'].keys() :\n",
    "                d[j]=l[i]['attributes'][j]\n",
    "            else:\n",
    "                d[j]='Na'\n",
    "    l_new.append(d)\n",
    "    "
   ]
  },
  {
   "cell_type": "code",
   "execution_count": 19,
   "metadata": {},
   "outputs": [
    {
     "data": {
      "text/plain": [
       "4524"
      ]
     },
     "execution_count": 19,
     "metadata": {},
     "output_type": "execute_result"
    }
   ],
   "source": [
    "len(l_new)"
   ]
  },
  {
   "cell_type": "code",
   "execution_count": 22,
   "metadata": {},
   "outputs": [],
   "source": [
    "my_attr=pd.DataFrame(l_new)"
   ]
  },
  {
   "cell_type": "code",
   "execution_count": 153,
   "metadata": {},
   "outputs": [
    {
     "data": {
      "text/html": [
       "<div>\n",
       "<style scoped>\n",
       "    .dataframe tbody tr th:only-of-type {\n",
       "        vertical-align: middle;\n",
       "    }\n",
       "\n",
       "    .dataframe tbody tr th {\n",
       "        vertical-align: top;\n",
       "    }\n",
       "\n",
       "    .dataframe thead th {\n",
       "        text-align: right;\n",
       "    }\n",
       "</style>\n",
       "<table border=\"1\" class=\"dataframe\">\n",
       "  <thead>\n",
       "    <tr style=\"text-align: right;\">\n",
       "      <th></th>\n",
       "      <th>AcceptsInsurance</th>\n",
       "      <th>AgesAllowed</th>\n",
       "      <th>Alcohol</th>\n",
       "      <th>Ambience</th>\n",
       "      <th>Ambience_casual</th>\n",
       "      <th>Ambience_classy</th>\n",
       "      <th>Ambience_divey</th>\n",
       "      <th>Ambience_hipster</th>\n",
       "      <th>Ambience_intimate</th>\n",
       "      <th>Ambience_romantic</th>\n",
       "      <th>...</th>\n",
       "      <th>RestaurantsGoodForGroups</th>\n",
       "      <th>RestaurantsPriceRange2</th>\n",
       "      <th>RestaurantsReservations</th>\n",
       "      <th>RestaurantsTableService</th>\n",
       "      <th>RestaurantsTakeOut</th>\n",
       "      <th>Smoking</th>\n",
       "      <th>WheelchairAccessible</th>\n",
       "      <th>WiFi</th>\n",
       "      <th>business_id</th>\n",
       "      <th>stars</th>\n",
       "    </tr>\n",
       "  </thead>\n",
       "  <tbody>\n",
       "    <tr>\n",
       "      <th>0</th>\n",
       "      <td>Na</td>\n",
       "      <td>Na</td>\n",
       "      <td>Na</td>\n",
       "      <td>Na</td>\n",
       "      <td>False</td>\n",
       "      <td>False</td>\n",
       "      <td>False</td>\n",
       "      <td>False</td>\n",
       "      <td>False</td>\n",
       "      <td>False</td>\n",
       "      <td>...</td>\n",
       "      <td>True</td>\n",
       "      <td>1</td>\n",
       "      <td>False</td>\n",
       "      <td>Na</td>\n",
       "      <td>True</td>\n",
       "      <td>Na</td>\n",
       "      <td>Na</td>\n",
       "      <td>Na</td>\n",
       "      <td>1RHY4K3BD22FK7Cfftn8Mg</td>\n",
       "      <td>4.0</td>\n",
       "    </tr>\n",
       "    <tr>\n",
       "      <th>1</th>\n",
       "      <td>Na</td>\n",
       "      <td>Na</td>\n",
       "      <td>full_bar</td>\n",
       "      <td>Na</td>\n",
       "      <td>True</td>\n",
       "      <td>False</td>\n",
       "      <td>False</td>\n",
       "      <td>True</td>\n",
       "      <td>False</td>\n",
       "      <td>False</td>\n",
       "      <td>...</td>\n",
       "      <td>True</td>\n",
       "      <td>2</td>\n",
       "      <td>False</td>\n",
       "      <td>False</td>\n",
       "      <td>True</td>\n",
       "      <td>no</td>\n",
       "      <td>True</td>\n",
       "      <td>free</td>\n",
       "      <td>dQj5DLZjeDK3KFysh1SYOQ</td>\n",
       "      <td>4.5</td>\n",
       "    </tr>\n",
       "    <tr>\n",
       "      <th>2</th>\n",
       "      <td>Na</td>\n",
       "      <td>Na</td>\n",
       "      <td>none</td>\n",
       "      <td>Na</td>\n",
       "      <td>True</td>\n",
       "      <td>False</td>\n",
       "      <td>False</td>\n",
       "      <td>False</td>\n",
       "      <td>False</td>\n",
       "      <td>False</td>\n",
       "      <td>...</td>\n",
       "      <td>False</td>\n",
       "      <td>2</td>\n",
       "      <td>False</td>\n",
       "      <td>True</td>\n",
       "      <td>True</td>\n",
       "      <td>Na</td>\n",
       "      <td>True</td>\n",
       "      <td>no</td>\n",
       "      <td>v-scZMU6jhnmV955RSzGJw</td>\n",
       "      <td>4.5</td>\n",
       "    </tr>\n",
       "    <tr>\n",
       "      <th>3</th>\n",
       "      <td>Na</td>\n",
       "      <td>Na</td>\n",
       "      <td>full_bar</td>\n",
       "      <td>Na</td>\n",
       "      <td>False</td>\n",
       "      <td>False</td>\n",
       "      <td>False</td>\n",
       "      <td>False</td>\n",
       "      <td>False</td>\n",
       "      <td>False</td>\n",
       "      <td>...</td>\n",
       "      <td>True</td>\n",
       "      <td>2</td>\n",
       "      <td>True</td>\n",
       "      <td>Na</td>\n",
       "      <td>True</td>\n",
       "      <td>Na</td>\n",
       "      <td>Na</td>\n",
       "      <td>no</td>\n",
       "      <td>KFbUQ-RR2UOV62Ep7WnXHw</td>\n",
       "      <td>3.0</td>\n",
       "    </tr>\n",
       "    <tr>\n",
       "      <th>4</th>\n",
       "      <td>Na</td>\n",
       "      <td>Na</td>\n",
       "      <td>Na</td>\n",
       "      <td>Na</td>\n",
       "      <td>Na</td>\n",
       "      <td>Na</td>\n",
       "      <td>Na</td>\n",
       "      <td>Na</td>\n",
       "      <td>Na</td>\n",
       "      <td>Na</td>\n",
       "      <td>...</td>\n",
       "      <td>Na</td>\n",
       "      <td>2</td>\n",
       "      <td>Na</td>\n",
       "      <td>Na</td>\n",
       "      <td>True</td>\n",
       "      <td>Na</td>\n",
       "      <td>Na</td>\n",
       "      <td>Na</td>\n",
       "      <td>QHr_fc_TLnGfUEuDEa2jDg</td>\n",
       "      <td>3.0</td>\n",
       "    </tr>\n",
       "  </tbody>\n",
       "</table>\n",
       "<p>5 rows × 72 columns</p>\n",
       "</div>"
      ],
      "text/plain": [
       "  AcceptsInsurance AgesAllowed   Alcohol Ambience Ambience_casual  \\\n",
       "0               Na          Na        Na       Na           False   \n",
       "1               Na          Na  full_bar       Na            True   \n",
       "2               Na          Na      none       Na            True   \n",
       "3               Na          Na  full_bar       Na           False   \n",
       "4               Na          Na        Na       Na              Na   \n",
       "\n",
       "  Ambience_classy Ambience_divey Ambience_hipster Ambience_intimate  \\\n",
       "0           False          False            False             False   \n",
       "1           False          False             True             False   \n",
       "2           False          False            False             False   \n",
       "3           False          False            False             False   \n",
       "4              Na             Na               Na                Na   \n",
       "\n",
       "  Ambience_romantic  ...  RestaurantsGoodForGroups RestaurantsPriceRange2  \\\n",
       "0             False  ...                      True                      1   \n",
       "1             False  ...                      True                      2   \n",
       "2             False  ...                     False                      2   \n",
       "3             False  ...                      True                      2   \n",
       "4                Na  ...                        Na                      2   \n",
       "\n",
       "  RestaurantsReservations RestaurantsTableService RestaurantsTakeOut Smoking  \\\n",
       "0                   False                      Na               True      Na   \n",
       "1                   False                   False               True      no   \n",
       "2                   False                    True               True      Na   \n",
       "3                    True                      Na               True      Na   \n",
       "4                      Na                      Na               True      Na   \n",
       "\n",
       "  WheelchairAccessible  WiFi             business_id stars  \n",
       "0                   Na    Na  1RHY4K3BD22FK7Cfftn8Mg   4.0  \n",
       "1                 True  free  dQj5DLZjeDK3KFysh1SYOQ   4.5  \n",
       "2                 True    no  v-scZMU6jhnmV955RSzGJw   4.5  \n",
       "3                   Na    no  KFbUQ-RR2UOV62Ep7WnXHw   3.0  \n",
       "4                   Na    Na  QHr_fc_TLnGfUEuDEa2jDg   3.0  \n",
       "\n",
       "[5 rows x 72 columns]"
      ]
     },
     "execution_count": 153,
     "metadata": {},
     "output_type": "execute_result"
    }
   ],
   "source": [
    "my_attr.iloc[:5,:]"
   ]
  },
  {
   "cell_type": "code",
   "execution_count": 154,
   "metadata": {},
   "outputs": [],
   "source": [
    "my_attr.to_csv('/Users/apple/Documents/Wisc/study/2019Fall/STAT 628/Module3/attributes_cleaning.csv')"
   ]
  },
  {
   "cell_type": "code",
   "execution_count": null,
   "metadata": {},
   "outputs": [],
   "source": []
  }
 ],
 "metadata": {
  "kernelspec": {
   "display_name": "Python 3",
   "language": "python",
   "name": "python3"
  },
  "language_info": {
   "codemirror_mode": {
    "name": "ipython",
    "version": 3
   },
   "file_extension": ".py",
   "mimetype": "text/x-python",
   "name": "python",
   "nbconvert_exporter": "python",
   "pygments_lexer": "ipython3",
   "version": "3.6.5"
  }
 },
 "nbformat": 4,
 "nbformat_minor": 2
}
