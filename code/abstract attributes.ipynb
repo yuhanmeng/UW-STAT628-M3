{
 "cells": [
  {
   "cell_type": "code",
   "execution_count": 75,
   "metadata": {},
   "outputs": [],
   "source": [
    "import csv\n",
    "data = [] \n",
    "cf = open(\"/Users/apple/Documents/Wisc/study/2019Fall/STAT 628/Module3/PA_business_cleaning.csv\",'r', encoding='utf-8',errors='ignore')\n",
    "\n",
    "file = csv.DictReader(cf)\n",
    "\n",
    "for x in file:\n",
    "    line = {'business_id':x['business_id'],'attributes':x['attributes'],'stars':x['stars']}\n",
    "    data.append(line)\n",
    "\n",
    "cf.close()"
   ]
  },
  {
   "cell_type": "code",
   "execution_count": 76,
   "metadata": {},
   "outputs": [
    {
     "data": {
      "text/plain": [
       "4524"
      ]
     },
     "execution_count": 76,
     "metadata": {},
     "output_type": "execute_result"
    }
   ],
   "source": [
    "len(data)"
   ]
  },
  {
   "cell_type": "markdown",
   "metadata": {},
   "source": [
    "# extract all the dict in dict out"
   ]
  },
  {
   "cell_type": "code",
   "execution_count": 77,
   "metadata": {},
   "outputs": [],
   "source": [
    "def convert_to_dict(attr2):\n",
    "    k=[]\n",
    "    d=dict()\n",
    "    for i in attr2.keys():\n",
    "        attr2[i]=eval(attr2[i])\n",
    "        if type(attr2[i])==dict:\n",
    "            l=attr2[i].keys()\n",
    "            for j in l:\n",
    "                k.append(i+'_'+j)\n",
    "                d[i+'_'+j]=attr2[i][j]\n",
    "        else:\n",
    "            k.append(i)\n",
    "            d[i]=attr2[i]\n",
    "    return(d)\n",
    "        "
   ]
  },
  {
   "cell_type": "code",
   "execution_count": 80,
   "metadata": {},
   "outputs": [],
   "source": [
    "l=[]\n",
    "for i in range(0,len(data)):\n",
    "    attr=data[i]\n",
    "    attr1=attr['attributes']\n",
    "    if attr1!='':\n",
    "        attr2=eval(attr1)\n",
    "        attr_new=convert_to_dict(attr2)\n",
    "        d=dict()\n",
    "        d['business_id']=attr['business_id']\n",
    "        d['stars']=attr['stars']\n",
    "        d['attributes']=attr_new\n",
    "        l.append(d)\n",
    "    else:\n",
    "        continue"
   ]
  },
  {
   "cell_type": "code",
   "execution_count": 91,
   "metadata": {},
   "outputs": [
    {
     "data": {
      "text/plain": [
       "{'business_id': '1RHY4K3BD22FK7Cfftn8Mg',\n",
       " 'stars': '4.0',\n",
       " 'attributes': {'RestaurantsTakeOut': True,\n",
       "  'BusinessParking_garage': False,\n",
       "  'BusinessParking_street': False,\n",
       "  'BusinessParking_validated': False,\n",
       "  'BusinessParking_lot': False,\n",
       "  'BusinessParking_valet': False,\n",
       "  'Ambience_touristy': False,\n",
       "  'Ambience_hipster': False,\n",
       "  'Ambience_romantic': False,\n",
       "  'Ambience_divey': False,\n",
       "  'Ambience_intimate': False,\n",
       "  'Ambience_trendy': False,\n",
       "  'Ambience_upscale': False,\n",
       "  'Ambience_classy': False,\n",
       "  'Ambience_casual': False,\n",
       "  'RestaurantsDelivery': False,\n",
       "  'RestaurantsReservations': False,\n",
       "  'BusinessAcceptsCreditCards': True,\n",
       "  'RestaurantsPriceRange2': 1,\n",
       "  'RestaurantsGoodForGroups': True,\n",
       "  'DriveThru': False,\n",
       "  'GoodForKids': True,\n",
       "  'GoodForMeal_dessert': False,\n",
       "  'GoodForMeal_latenight': False,\n",
       "  'GoodForMeal_lunch': False,\n",
       "  'GoodForMeal_dinner': False,\n",
       "  'GoodForMeal_brunch': False,\n",
       "  'GoodForMeal_breakfast': False,\n",
       "  'HasTV': False,\n",
       "  'OutdoorSeating': False}}"
      ]
     },
     "execution_count": 91,
     "metadata": {},
     "output_type": "execute_result"
    }
   ],
   "source": [
    "l[0]"
   ]
  },
  {
   "cell_type": "markdown",
   "metadata": {},
   "source": [
    "# find all the attributes"
   ]
  },
  {
   "cell_type": "code",
   "execution_count": 82,
   "metadata": {},
   "outputs": [],
   "source": [
    "l1=[]\n",
    "for j in range(0,len(l)):\n",
    "    for i in l[j][\"attributes\"].keys():\n",
    "        l1.append(i)\n"
   ]
  },
  {
   "cell_type": "code",
   "execution_count": 83,
   "metadata": {},
   "outputs": [
    {
     "data": {
      "text/plain": [
       "112163"
      ]
     },
     "execution_count": 83,
     "metadata": {},
     "output_type": "execute_result"
    }
   ],
   "source": [
    "len(l1)"
   ]
  },
  {
   "cell_type": "code",
   "execution_count": 84,
   "metadata": {},
   "outputs": [
    {
     "data": {
      "text/plain": [
       "70"
      ]
     },
     "execution_count": 84,
     "metadata": {},
     "output_type": "execute_result"
    }
   ],
   "source": [
    "len(set(l1))"
   ]
  },
  {
   "cell_type": "code",
   "execution_count": 85,
   "metadata": {},
   "outputs": [],
   "source": [
    "all_attr=list(set(l1))"
   ]
  },
  {
   "cell_type": "code",
   "execution_count": 62,
   "metadata": {},
   "outputs": [],
   "source": [
    "new_d=dict()\n",
    "for i in names:\n",
    "    if i in l[0]['attributes'].keys() :\n",
    "        new_d[i]=l[0]['attributes'][i]\n",
    "    else:\n",
    "        new_d[i]='Na'"
   ]
  },
  {
   "cell_type": "code",
   "execution_count": 65,
   "metadata": {},
   "outputs": [
    {
     "data": {
      "text/plain": [
       "{'BestNights_wednesday': 'Na',\n",
       " 'DriveThru': False,\n",
       " 'RestaurantsTableService': 'Na',\n",
       " 'Music_live': 'Na',\n",
       " 'WiFi': 'Na',\n",
       " 'BestNights_sunday': 'Na',\n",
       " 'BestNights_thursday': 'Na',\n",
       " 'HappyHour': 'Na',\n",
       " 'BusinessAcceptsBitcoin': 'Na',\n",
       " 'GoodForKids': True,\n",
       " 'BestNights_monday': 'Na',\n",
       " 'GoodForMeal_lunch': False,\n",
       " 'Music_dj': 'Na',\n",
       " 'RestaurantsGoodForGroups': True,\n",
       " 'Ambience_romantic': False,\n",
       " 'WheelchairAccessible': 'Na',\n",
       " 'Ambience_divey': False,\n",
       " 'BusinessParking_valet': False,\n",
       " 'Smoking': 'Na',\n",
       " 'RestaurantsAttire': 'Na',\n",
       " 'GoodForMeal_latenight': False,\n",
       " 'Ambience_casual': False,\n",
       " 'GoodForMeal_dinner': False,\n",
       " 'Music_jukebox': 'Na',\n",
       " 'Alcohol': 'Na',\n",
       " 'Ambience_hipster': False,\n",
       " 'BestNights_saturday': 'Na',\n",
       " 'CoatCheck': 'Na',\n",
       " 'Music_karaoke': 'Na',\n",
       " 'Ambience_touristy': False,\n",
       " 'Ambience_upscale': False,\n",
       " 'Music_background_music': 'Na',\n",
       " 'GoodForMeal_brunch': False,\n",
       " 'GoodForDancing': 'Na',\n",
       " 'BusinessParking_street': False,\n",
       " 'BusinessParking_lot': False,\n",
       " 'GoodForMeal_dessert': False,\n",
       " 'BusinessAcceptsCreditCards': True,\n",
       " 'GoodForMeal_breakfast': False,\n",
       " 'Caters': 'Na',\n",
       " 'Music_video': 'Na',\n",
       " 'NoiseLevel': 'Na',\n",
       " 'Ambience_classy': False,\n",
       " 'BusinessParking_validated': False,\n",
       " 'BikeParking': 'Na',\n",
       " 'RestaurantsDelivery': False,\n",
       " 'RestaurantsPriceRange2': 1,\n",
       " 'HasTV': False,\n",
       " 'RestaurantsReservations': False,\n",
       " 'Ambience_trendy': False,\n",
       " 'Ambience_intimate': False,\n",
       " 'BestNights_friday': 'Na',\n",
       " 'BestNights_tuesday': 'Na',\n",
       " 'OutdoorSeating': False,\n",
       " 'BusinessParking_garage': False,\n",
       " 'RestaurantsTakeOut': True}"
      ]
     },
     "execution_count": 65,
     "metadata": {},
     "output_type": "execute_result"
    }
   ],
   "source": [
    "new_d"
   ]
  },
  {
   "cell_type": "markdown",
   "metadata": {},
   "source": [
    "# put all the attr out"
   ]
  },
  {
   "cell_type": "code",
   "execution_count": 86,
   "metadata": {},
   "outputs": [],
   "source": [
    "l_new=[]\n",
    "for i in range(0,len(l)):\n",
    "    d=dict()\n",
    "    d['business_id']=l[i]['business_id']\n",
    "    d['stars']=l[i]['stars']\n",
    "    for j in names:\n",
    "        if j in l[i]['attributes'].keys() :\n",
    "            d[j]=l[i]['attributes'][j]\n",
    "        else:\n",
    "            d[j]='Na'\n",
    "    l_new.append(d)\n",
    "    "
   ]
  },
  {
   "cell_type": "code",
   "execution_count": 93,
   "metadata": {},
   "outputs": [],
   "source": [
    "#l_new# all the attributes"
   ]
  },
  {
   "cell_type": "code",
   "execution_count": 88,
   "metadata": {},
   "outputs": [],
   "source": [
    "my_attr=pd.DataFrame(l_new)"
   ]
  },
  {
   "cell_type": "code",
   "execution_count": 92,
   "metadata": {},
   "outputs": [
    {
     "data": {
      "text/html": [
       "<div>\n",
       "<style scoped>\n",
       "    .dataframe tbody tr th:only-of-type {\n",
       "        vertical-align: middle;\n",
       "    }\n",
       "\n",
       "    .dataframe tbody tr th {\n",
       "        vertical-align: top;\n",
       "    }\n",
       "\n",
       "    .dataframe thead th {\n",
       "        text-align: right;\n",
       "    }\n",
       "</style>\n",
       "<table border=\"1\" class=\"dataframe\">\n",
       "  <thead>\n",
       "    <tr style=\"text-align: right;\">\n",
       "      <th></th>\n",
       "      <th>Alcohol</th>\n",
       "      <th>Ambience_casual</th>\n",
       "      <th>Ambience_classy</th>\n",
       "      <th>Ambience_divey</th>\n",
       "      <th>Ambience_hipster</th>\n",
       "      <th>Ambience_intimate</th>\n",
       "      <th>Ambience_romantic</th>\n",
       "      <th>Ambience_touristy</th>\n",
       "      <th>Ambience_trendy</th>\n",
       "      <th>Ambience_upscale</th>\n",
       "      <th>...</th>\n",
       "      <th>RestaurantsGoodForGroups</th>\n",
       "      <th>RestaurantsPriceRange2</th>\n",
       "      <th>RestaurantsReservations</th>\n",
       "      <th>RestaurantsTableService</th>\n",
       "      <th>RestaurantsTakeOut</th>\n",
       "      <th>Smoking</th>\n",
       "      <th>WheelchairAccessible</th>\n",
       "      <th>WiFi</th>\n",
       "      <th>business_id</th>\n",
       "      <th>stars</th>\n",
       "    </tr>\n",
       "  </thead>\n",
       "  <tbody>\n",
       "    <tr>\n",
       "      <th>0</th>\n",
       "      <td>Na</td>\n",
       "      <td>False</td>\n",
       "      <td>False</td>\n",
       "      <td>False</td>\n",
       "      <td>False</td>\n",
       "      <td>False</td>\n",
       "      <td>False</td>\n",
       "      <td>False</td>\n",
       "      <td>False</td>\n",
       "      <td>False</td>\n",
       "      <td>...</td>\n",
       "      <td>True</td>\n",
       "      <td>1</td>\n",
       "      <td>False</td>\n",
       "      <td>Na</td>\n",
       "      <td>True</td>\n",
       "      <td>Na</td>\n",
       "      <td>Na</td>\n",
       "      <td>Na</td>\n",
       "      <td>1RHY4K3BD22FK7Cfftn8Mg</td>\n",
       "      <td>4.0</td>\n",
       "    </tr>\n",
       "    <tr>\n",
       "      <th>1</th>\n",
       "      <td>full_bar</td>\n",
       "      <td>True</td>\n",
       "      <td>False</td>\n",
       "      <td>False</td>\n",
       "      <td>True</td>\n",
       "      <td>False</td>\n",
       "      <td>False</td>\n",
       "      <td>False</td>\n",
       "      <td>False</td>\n",
       "      <td>False</td>\n",
       "      <td>...</td>\n",
       "      <td>True</td>\n",
       "      <td>2</td>\n",
       "      <td>False</td>\n",
       "      <td>False</td>\n",
       "      <td>True</td>\n",
       "      <td>no</td>\n",
       "      <td>True</td>\n",
       "      <td>free</td>\n",
       "      <td>dQj5DLZjeDK3KFysh1SYOQ</td>\n",
       "      <td>4.5</td>\n",
       "    </tr>\n",
       "    <tr>\n",
       "      <th>2</th>\n",
       "      <td>none</td>\n",
       "      <td>True</td>\n",
       "      <td>False</td>\n",
       "      <td>False</td>\n",
       "      <td>False</td>\n",
       "      <td>False</td>\n",
       "      <td>False</td>\n",
       "      <td>False</td>\n",
       "      <td>False</td>\n",
       "      <td>False</td>\n",
       "      <td>...</td>\n",
       "      <td>False</td>\n",
       "      <td>2</td>\n",
       "      <td>False</td>\n",
       "      <td>True</td>\n",
       "      <td>True</td>\n",
       "      <td>Na</td>\n",
       "      <td>True</td>\n",
       "      <td>no</td>\n",
       "      <td>v-scZMU6jhnmV955RSzGJw</td>\n",
       "      <td>4.5</td>\n",
       "    </tr>\n",
       "    <tr>\n",
       "      <th>3</th>\n",
       "      <td>full_bar</td>\n",
       "      <td>False</td>\n",
       "      <td>False</td>\n",
       "      <td>False</td>\n",
       "      <td>False</td>\n",
       "      <td>False</td>\n",
       "      <td>False</td>\n",
       "      <td>False</td>\n",
       "      <td>False</td>\n",
       "      <td>False</td>\n",
       "      <td>...</td>\n",
       "      <td>True</td>\n",
       "      <td>2</td>\n",
       "      <td>True</td>\n",
       "      <td>Na</td>\n",
       "      <td>True</td>\n",
       "      <td>Na</td>\n",
       "      <td>Na</td>\n",
       "      <td>no</td>\n",
       "      <td>KFbUQ-RR2UOV62Ep7WnXHw</td>\n",
       "      <td>3.0</td>\n",
       "    </tr>\n",
       "    <tr>\n",
       "      <th>4</th>\n",
       "      <td>Na</td>\n",
       "      <td>Na</td>\n",
       "      <td>Na</td>\n",
       "      <td>Na</td>\n",
       "      <td>Na</td>\n",
       "      <td>Na</td>\n",
       "      <td>Na</td>\n",
       "      <td>Na</td>\n",
       "      <td>Na</td>\n",
       "      <td>Na</td>\n",
       "      <td>...</td>\n",
       "      <td>Na</td>\n",
       "      <td>2</td>\n",
       "      <td>Na</td>\n",
       "      <td>Na</td>\n",
       "      <td>True</td>\n",
       "      <td>Na</td>\n",
       "      <td>Na</td>\n",
       "      <td>Na</td>\n",
       "      <td>QHr_fc_TLnGfUEuDEa2jDg</td>\n",
       "      <td>3.0</td>\n",
       "    </tr>\n",
       "  </tbody>\n",
       "</table>\n",
       "<p>5 rows × 58 columns</p>\n",
       "</div>"
      ],
      "text/plain": [
       "    Alcohol Ambience_casual Ambience_classy Ambience_divey Ambience_hipster  \\\n",
       "0        Na           False           False          False            False   \n",
       "1  full_bar            True           False          False             True   \n",
       "2      none            True           False          False            False   \n",
       "3  full_bar           False           False          False            False   \n",
       "4        Na              Na              Na             Na               Na   \n",
       "\n",
       "  Ambience_intimate Ambience_romantic Ambience_touristy Ambience_trendy  \\\n",
       "0             False             False             False           False   \n",
       "1             False             False             False           False   \n",
       "2             False             False             False           False   \n",
       "3             False             False             False           False   \n",
       "4                Na                Na                Na              Na   \n",
       "\n",
       "  Ambience_upscale  ...  RestaurantsGoodForGroups RestaurantsPriceRange2  \\\n",
       "0            False  ...                      True                      1   \n",
       "1            False  ...                      True                      2   \n",
       "2            False  ...                     False                      2   \n",
       "3            False  ...                      True                      2   \n",
       "4               Na  ...                        Na                      2   \n",
       "\n",
       "  RestaurantsReservations RestaurantsTableService RestaurantsTakeOut Smoking  \\\n",
       "0                   False                      Na               True      Na   \n",
       "1                   False                   False               True      no   \n",
       "2                   False                    True               True      Na   \n",
       "3                    True                      Na               True      Na   \n",
       "4                      Na                      Na               True      Na   \n",
       "\n",
       "  WheelchairAccessible  WiFi             business_id stars  \n",
       "0                   Na    Na  1RHY4K3BD22FK7Cfftn8Mg   4.0  \n",
       "1                 True  free  dQj5DLZjeDK3KFysh1SYOQ   4.5  \n",
       "2                 True    no  v-scZMU6jhnmV955RSzGJw   4.5  \n",
       "3                   Na    no  KFbUQ-RR2UOV62Ep7WnXHw   3.0  \n",
       "4                   Na    Na  QHr_fc_TLnGfUEuDEa2jDg   3.0  \n",
       "\n",
       "[5 rows x 58 columns]"
      ]
     },
     "execution_count": 92,
     "metadata": {},
     "output_type": "execute_result"
    }
   ],
   "source": [
    "my_attr.iloc[:5,:]"
   ]
  },
  {
   "cell_type": "code",
   "execution_count": 90,
   "metadata": {},
   "outputs": [],
   "source": [
    "my_attr.to_csv('/Users/apple/Documents/Wisc/study/2019Fall/STAT 628/Module3/attributes_cleaning.csv')"
   ]
  },
  {
   "cell_type": "code",
   "execution_count": null,
   "metadata": {},
   "outputs": [],
   "source": []
  }
 ],
 "metadata": {
  "kernelspec": {
   "display_name": "Python 3",
   "language": "python",
   "name": "python3"
  },
  "language_info": {
   "codemirror_mode": {
    "name": "ipython",
    "version": 3
   },
   "file_extension": ".py",
   "mimetype": "text/x-python",
   "name": "python",
   "nbconvert_exporter": "python",
   "pygments_lexer": "ipython3",
   "version": "3.6.5"
  }
 },
 "nbformat": 4,
 "nbformat_minor": 2
}
