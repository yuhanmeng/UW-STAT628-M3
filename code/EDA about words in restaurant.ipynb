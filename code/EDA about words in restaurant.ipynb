{
 "cells": [
  {
   "cell_type": "code",
   "execution_count": 208,
   "metadata": {},
   "outputs": [],
   "source": [
    "import csv\n",
    "data = [] \n",
    "cf = open(\"/Users/apple/Documents/Wisc/study/2019Fall/STAT 628/Module3/PAreview_clean.csv\",'r', encoding='utf-8',errors='ignore')\n",
    "\n",
    "file = csv.DictReader(cf)\n",
    "\n",
    "for x in file:\n",
    "    line = {'business_id':x['business_id'],'date':x['date'],'stars':x['stars'],'text':x['text']}\n",
    "    data.append(line)\n",
    "\n",
    "cf.close()"
   ]
  },
  {
   "cell_type": "code",
   "execution_count": 209,
   "metadata": {},
   "outputs": [
    {
     "data": {
      "text/plain": [
       "214443"
      ]
     },
     "execution_count": 209,
     "metadata": {},
     "output_type": "execute_result"
    }
   ],
   "source": [
    "len(data)"
   ]
  },
  {
   "cell_type": "code",
   "execution_count": 210,
   "metadata": {},
   "outputs": [],
   "source": [
    "import stemming\n",
    "\n",
    "from stemming.porter2 import stem "
   ]
  },
  {
   "cell_type": "code",
   "execution_count": 211,
   "metadata": {},
   "outputs": [
    {
     "data": {
      "text/plain": [
       "{'business_id': 'FxLfqxdYPA6Z85PFKaqLrg',\n",
       " 'date': '2016-05-07 01:36:53',\n",
       " 'stars': '4.0',\n",
       " 'text': \"['wow', 'surpris', 'one', 'two', 'star', 'review', 'start', 'tender', 'calamari', 'although', 'marinara', 'sauc', 'bit', 'bland', 'touch', 'salt', 'made', 'right', 'husband', 'veal', 'pepper', 'said', 'delici', 'tender', 'mash', 'potato', 'perfect', 'salmon', 'diablo', 'also', 'delici', 'salad', 'beauti', 'dress', 'serv', 'salad', 'nice', 'amount', 'end', 'delici', 'meal', 'piec', 'tiramisu', 'server', 'matt', 'right', 'pleasant', 'knowledg', 'menu', 'appet', 'salad', 'entre', 'ti', 'ame', 'perfect', 'love', 'salad', 'NOTmind', 'NOTentre', 'NOTserv', 'NOTstill', 'NOTeat', 'no', 'problem', 'let', 'dinner', 'cool', 'right', 'temp', 'eat', 'comfort', 'wonder', 'someti', 'ame', 'peopl', 'NOTappreci', 'NOTrelax', 'NOTtake', 'NOTti', 'NOTame', 'NOTeat', 'NOTwonder', 'NOTbeauti', 'NOTprepar', 'NOTmeal', 'wonder', 'atmospher', 'relax', 'chair', 'super', 'comfort', 'certain', 'back', 'give', 'tri', 'NOTalway', 'NOTgo', 'NOTreview', 'bottl', 'riesl', 'calamari', 'app', 'two', 'delici', 'entre', 'dessert', 'well']\"}"
      ]
     },
     "execution_count": 211,
     "metadata": {},
     "output_type": "execute_result"
    }
   ],
   "source": [
    "data[1]"
   ]
  },
  {
   "cell_type": "code",
   "execution_count": 213,
   "metadata": {},
   "outputs": [
    {
     "data": {
      "text/plain": [
       "{'4.0': 60189, '5.0': 81376, '1.0': 22640, '3.0': 30048, '2.0': 20190}"
      ]
     },
     "execution_count": 213,
     "metadata": {},
     "output_type": "execute_result"
    }
   ],
   "source": [
    "k=dict()\n",
    "for i in range(len(data)):\n",
    "    if data[i]['stars'] not in k.keys():\n",
    "        k[data[i]['stars']] =1\n",
    "    else:\n",
    "        k[data[i]['stars']] +=1\n",
    "k"
   ]
  },
  {
   "cell_type": "code",
   "execution_count": 225,
   "metadata": {},
   "outputs": [
    {
     "data": {
      "text/plain": [
       "{'1.0': 22640, '2.0': 20190, '3.0': 30048, '4.0': 60189, '5.0': 81376}"
      ]
     },
     "execution_count": 225,
     "metadata": {},
     "output_type": "execute_result"
    }
   ],
   "source": [
    "star_num={'1.0':k['1.0'],'2.0':k['2.0'],'3.0':k['3.0'],'4.0':k['4.0'],'5.0':k['5.0']}\n",
    "star_num"
   ]
  },
  {
   "cell_type": "code",
   "execution_count": 226,
   "metadata": {},
   "outputs": [
    {
     "data": {
      "text/plain": [
       "22640"
      ]
     },
     "execution_count": 226,
     "metadata": {},
     "output_type": "execute_result"
    }
   ],
   "source": [
    "star_num['1.0']"
   ]
  },
  {
   "cell_type": "markdown",
   "metadata": {},
   "source": [
    "# Find the word's distribution over diff stars"
   ]
  },
  {
   "cell_type": "markdown",
   "metadata": {},
   "source": [
    "# service dist"
   ]
  },
  {
   "cell_type": "code",
   "execution_count": 230,
   "metadata": {},
   "outputs": [
    {
     "data": {
      "text/plain": [
       "'servic'"
      ]
     },
     "execution_count": 230,
     "metadata": {},
     "output_type": "execute_result"
    }
   ],
   "source": [
    "stem('service')"
   ]
  },
  {
   "cell_type": "code",
   "execution_count": 231,
   "metadata": {},
   "outputs": [
    {
     "data": {
      "text/plain": [
       "True"
      ]
     },
     "execution_count": 231,
     "metadata": {},
     "output_type": "execute_result"
    }
   ],
   "source": [
    "'servic' in data[0]['text']"
   ]
  },
  {
   "cell_type": "code",
   "execution_count": 232,
   "metadata": {},
   "outputs": [],
   "source": [
    "service=dict()\n",
    "for i in range(len(data)):\n",
    "    if data[i]['stars'] not in service.keys():\n",
    "        service[data[i]['stars']]=0\n",
    "        if ('servic' in data[i]['text']) or ('service' in data[i]['text']):\n",
    "            service[data[i]['stars']]+=1\n",
    "    else:\n",
    "        if ('servic' in data[i]['text']) or ('service' in data[i]['text']):\n",
    "            service[data[i]['stars']]+=1\n",
    "           \n",
    "    "
   ]
  },
  {
   "cell_type": "code",
   "execution_count": 233,
   "metadata": {},
   "outputs": [
    {
     "data": {
      "text/plain": [
       "{'4.0': 16766, '5.0': 20687, '1.0': 7288, '3.0': 9720, '2.0': 6832}"
      ]
     },
     "execution_count": 233,
     "metadata": {},
     "output_type": "execute_result"
    }
   ],
   "source": [
    "service"
   ]
  },
  {
   "cell_type": "code",
   "execution_count": 234,
   "metadata": {},
   "outputs": [],
   "source": [
    "import matplotlib.pyplot as plt\n",
    "import numpy as np"
   ]
  },
  {
   "cell_type": "code",
   "execution_count": 235,
   "metadata": {},
   "outputs": [
    {
     "data": {
      "text/plain": [
       "['1.0', '2.0', '3.0', '4.0', '5.0']"
      ]
     },
     "execution_count": 235,
     "metadata": {},
     "output_type": "execute_result"
    }
   ],
   "source": [
    "l=sorted(list(service.keys()))\n",
    "l"
   ]
  },
  {
   "cell_type": "code",
   "execution_count": 236,
   "metadata": {},
   "outputs": [
    {
     "data": {
      "text/plain": [
       "[0.32190812720848055,\n",
       " 0.33838533927686976,\n",
       " 0.323482428115016,\n",
       " 0.2785558823040755,\n",
       " 0.2542150019661817]"
      ]
     },
     "execution_count": 236,
     "metadata": {},
     "output_type": "execute_result"
    }
   ],
   "source": [
    "value=[]\n",
    "for i in l:\n",
    "    value.append(service[i]/star_num[i])\n",
    "value"
   ]
  },
  {
   "cell_type": "code",
   "execution_count": 237,
   "metadata": {},
   "outputs": [
    {
     "data": {
      "text/plain": [
       "<BarContainer object of 5 artists>"
      ]
     },
     "execution_count": 237,
     "metadata": {},
     "output_type": "execute_result"
    },
    {
     "data": {
      "image/png": "[encoded data removed]",
      "text/plain": [
       "<Figure size 432x288 with 1 Axes>"
      ]
     },
     "metadata": {},
     "output_type": "display_data"
    }
   ],
   "source": [
    "plt.bar(l,value, color='r', width=0.2)"
   ]
  },
  {
   "cell_type": "markdown",
   "metadata": {},
   "source": [
    "# put all words(positive) we care in a dict"
   ]
  },
  {
   "cell_type": "code",
   "execution_count": 271,
   "metadata": {},
   "outputs": [],
   "source": [
    "words=['perfect','delicious', 'love', 'great', 'good',  'friend','order','like','place']"
   ]
  },
  {
   "cell_type": "code",
   "execution_count": 272,
   "metadata": {},
   "outputs": [
    {
     "data": {
      "text/plain": [
       "['perfect',\n",
       " 'delici',\n",
       " 'love',\n",
       " 'great',\n",
       " 'good',\n",
       " 'friend',\n",
       " 'order',\n",
       " 'like',\n",
       " 'place']"
      ]
     },
     "execution_count": 272,
     "metadata": {},
     "output_type": "execute_result"
    }
   ],
   "source": [
    "words_stem=[]\n",
    "for word in words:\n",
    "    words_stem.append(stem(word))\n",
    "words_stem"
   ]
  },
  {
   "cell_type": "code",
   "execution_count": 273,
   "metadata": {},
   "outputs": [],
   "source": [
    "all_words=dict()\n",
    "for word in words_stem:\n",
    "    all_words[word]=dict()\n",
    "    for i in range(len(data)):\n",
    "        if data[i]['stars'] not in all_words[word].keys():\n",
    "            all_words[word][data[i]['stars']]=0\n",
    "        if (word in data[i]['text']) :\n",
    "            all_words[word][data[i]['stars']]+=1\n",
    "    else:\n",
    "        if (word in data[i]['text']):\n",
    "            all_words[word][data[i]['stars']]+=1\n",
    "           \n",
    "    "
   ]
  },
  {
   "cell_type": "code",
   "execution_count": 274,
   "metadata": {},
   "outputs": [
    {
     "data": {
      "text/plain": [
       "{'perfect': {'4.0': 7216, '5.0': 11683, '1.0': 250, '3.0': 1770, '2.0': 505},\n",
       " 'delici': {'4.0': 13195, '5.0': 20641, '1.0': 423, '3.0': 3282, '2.0': 1059},\n",
       " 'love': {'4.0': 13141, '5.0': 21181, '1.0': 1444, '3.0': 4358, '2.0': 2205},\n",
       " 'great': {'4.0': 23880, '5.0': 33341, '1.0': 2321, '3.0': 8442, '2.0': 4175},\n",
       " 'good': {'4.0': 31570, '5.0': 27488, '1.0': 5658, '3.0': 17005, '2.0': 8752},\n",
       " 'friend': {'4.0': 16843, '5.0': 22100, '1.0': 3400, '3.0': 7400, '2.0': 4055},\n",
       " 'order': {'4.0': 17682, '5.0': 17198, '1.0': 9785, '3.0': 10983, '2.0': 8508},\n",
       " 'like': {'4.0': 19113, '5.0': 17406, '1.0': 6846, '3.0': 11551, '2.0': 7637},\n",
       " 'place': {'4.0': 25594, '5.0': 33353, '1.0': 9078, '3.0': 13192, '2.0': 8613}}"
      ]
     },
     "execution_count": 274,
     "metadata": {},
     "output_type": "execute_result"
    }
   ],
   "source": [
    "all_words"
   ]
  },
  {
   "cell_type": "code",
   "execution_count": 275,
   "metadata": {},
   "outputs": [
    {
     "data": {
      "text/plain": [
       "9"
      ]
     },
     "execution_count": 275,
     "metadata": {},
     "output_type": "execute_result"
    }
   ],
   "source": [
    "n=len(all_words)\n",
    "n"
   ]
  },
  {
   "cell_type": "code",
   "execution_count": 276,
   "metadata": {},
   "outputs": [
    {
     "data": {
      "text/plain": [
       "['perfect',\n",
       " 'delici',\n",
       " 'love',\n",
       " 'great',\n",
       " 'good',\n",
       " 'friend',\n",
       " 'order',\n",
       " 'like',\n",
       " 'place']"
      ]
     },
     "execution_count": 276,
     "metadata": {},
     "output_type": "execute_result"
    }
   ],
   "source": [
    "list(all_words.keys())"
   ]
  },
  {
   "cell_type": "code",
   "execution_count": 277,
   "metadata": {},
   "outputs": [
    {
     "data": {
      "text/plain": [
       "'delici'"
      ]
     },
     "execution_count": 277,
     "metadata": {},
     "output_type": "execute_result"
    }
   ],
   "source": [
    "name=list(all_words.keys())\n",
    "name[1]\n"
   ]
  },
  {
   "cell_type": "code",
   "execution_count": 278,
   "metadata": {},
   "outputs": [
    {
     "name": "stdout",
     "output_type": "stream",
     "text": [
      "331\n",
      "332\n",
      "333\n",
      "334\n",
      "335\n",
      "336\n",
      "337\n",
      "338\n",
      "339\n"
     ]
    }
   ],
   "source": [
    "for i in range(n):\n",
    "    print(331+i)"
   ]
  },
  {
   "cell_type": "code",
   "execution_count": 279,
   "metadata": {},
   "outputs": [
    {
     "data": {
      "text/plain": [
       "Text(0.5,1,'perfect')"
      ]
     },
     "execution_count": 279,
     "metadata": {},
     "output_type": "execute_result"
    },
    {
     "data": {
      "image/png": "[encoded data removed]",
      "text/plain": [
       "<Figure size 1080x1080 with 1 Axes>"
      ]
     },
     "metadata": {},
     "output_type": "display_data"
    }
   ],
   "source": [
    "plt.figure(figsize=(15,15))\n",
    "plt.subplot(331)\n",
    "name=list(all_words.keys())\n",
    "l=sorted(list(all_words[name[0]].keys()))\n",
    "value=[]\n",
    "for i in l:\n",
    "    value.append(all_words[name[0]][i]/star_num[i])\n",
    "plt.bar(l,value, color='r', width=0.2) \n",
    "plt.title(name[0])\n"
   ]
  },
  {
   "cell_type": "code",
   "execution_count": 280,
   "metadata": {},
   "outputs": [
    {
     "data": {
      "text/plain": [
       "Text(0.5,1,'place')"
      ]
     },
     "execution_count": 280,
     "metadata": {},
     "output_type": "execute_result"
    },
    {
     "data": {
      "image/png": "[encoded data removed]",
      "text/plain": [
       "<Figure size 1080x1080 with 9 Axes>"
      ]
     },
     "metadata": {},
     "output_type": "display_data"
    }
   ],
   "source": [
    "plt.figure(figsize=(15,15))\n",
    "\n",
    "plt.subplot(331)\n",
    "name=list(all_words.keys())\n",
    "l=sorted(list(all_words[name[0]].keys()))\n",
    "value=[]\n",
    "for i in l:\n",
    "    value.append(all_words[name[0]][i]/star_num[i])\n",
    "plt.bar(l,value, color='r', width=0.2) \n",
    "plt.title(name[0])\n",
    "\n",
    "plt.subplot(332)\n",
    "name=list(all_words.keys())\n",
    "l=sorted(list(all_words[name[1]].keys()))\n",
    "value=[]\n",
    "for i in l:\n",
    "    value.append(all_words[name[1]][i]/star_num[i])\n",
    "plt.bar(l,value, color='r', width=0.2) \n",
    "plt.title(name[1])\n",
    "\n",
    "plt.subplot(333)\n",
    "name=list(all_words.keys())\n",
    "l=sorted(list(all_words[name[2]].keys()))\n",
    "value=[]\n",
    "for i in l:\n",
    "    value.append(all_words[name[2]][i]/star_num[i])\n",
    "plt.bar(l,value, color='r', width=0.2) \n",
    "plt.title(name[2])\n",
    "\n",
    "plt.subplot(334)\n",
    "name=list(all_words.keys())\n",
    "l=sorted(list(all_words[name[3]].keys()))\n",
    "value=[]\n",
    "for i in l:\n",
    "    value.append(all_words[name[3]][i]/star_num[i])\n",
    "plt.bar(l,value, color='r', width=0.2) \n",
    "plt.title(name[3])\n",
    "\n",
    "plt.subplot(335)\n",
    "name=list(all_words.keys())\n",
    "l=sorted(list(all_words[name[4]].keys()))\n",
    "value=[]\n",
    "for i in l:\n",
    "    value.append(all_words[name[4]][i]/star_num[i])\n",
    "plt.bar(l,value, color='r', width=0.2) \n",
    "plt.title(name[4])\n",
    "\n",
    "plt.subplot(336)\n",
    "name=list(all_words.keys())\n",
    "l=sorted(list(all_words[name[5]].keys()))\n",
    "value=[]\n",
    "for i in l:\n",
    "    value.append(all_words[name[5]][i]/star_num[i])\n",
    "plt.bar(l,value, color='r', width=0.2) \n",
    "plt.title(name[5])\n",
    "\n",
    "\n",
    "plt.subplot(337)\n",
    "name=list(all_words.keys())\n",
    "l=sorted(list(all_words[name[6]].keys()))\n",
    "value=[]\n",
    "for i in l:\n",
    "    value.append(all_words[name[6]][i]/star_num[i])\n",
    "plt.bar(l,value, color='r', width=0.2) \n",
    "plt.title(name[6])\n",
    "\n",
    "plt.subplot(338)\n",
    "name=list(all_words.keys())\n",
    "l=sorted(list(all_words[name[7]].keys()))\n",
    "value=[]\n",
    "for i in l:\n",
    "    value.append(all_words[name[7]][i]/star_num[i])\n",
    "plt.bar(l,value, color='r', width=0.2) \n",
    "plt.title(name[7])\n",
    "\n",
    "plt.subplot(339)\n",
    "name=list(all_words.keys())\n",
    "l=sorted(list(all_words[name[8]].keys()))\n",
    "value=[]\n",
    "for i in l:\n",
    "    value.append(all_words[name[8]][i]/star_num[i])\n",
    "plt.bar(l,value, color='r', width=0.2) \n",
    "plt.title(name[8])\n",
    "    "
   ]
  },
  {
   "cell_type": "markdown",
   "metadata": {},
   "source": [
    "#  put all words(negative) we care in a dict"
   ]
  },
  {
   "cell_type": "code",
   "execution_count": 281,
   "metadata": {},
   "outputs": [],
   "source": [
    "words=['NOTdelicious', 'NOTlove', 'NOTgreat', 'NOTgood',  'NOTfriend','order','NOTlike','place','wait']"
   ]
  },
  {
   "cell_type": "code",
   "execution_count": 282,
   "metadata": {},
   "outputs": [
    {
     "data": {
      "text/plain": [
       "['NOTdelici',\n",
       " 'NOTlove',\n",
       " 'NOTgreat',\n",
       " 'NOTgood',\n",
       " 'NOTfriend',\n",
       " 'order',\n",
       " 'NOTlike',\n",
       " 'place',\n",
       " 'wait']"
      ]
     },
     "execution_count": 282,
     "metadata": {},
     "output_type": "execute_result"
    }
   ],
   "source": [
    "words_stem=[]\n",
    "for word in words:\n",
    "    words_stem.append(stem(word))\n",
    "words_stem"
   ]
  },
  {
   "cell_type": "code",
   "execution_count": 283,
   "metadata": {},
   "outputs": [],
   "source": [
    "all_words=dict()\n",
    "for word in words_stem:\n",
    "    all_words[word]=dict()\n",
    "    for i in range(len(data)):\n",
    "        if data[i]['stars'] not in all_words[word].keys():\n",
    "            all_words[word][data[i]['stars']]=0\n",
    "        if (word in data[i]['text']) :\n",
    "            all_words[word][data[i]['stars']]+=1\n",
    "    else:\n",
    "        if (word in data[i]['text']):\n",
    "            all_words[word][data[i]['stars']]+=1"
   ]
  },
  {
   "cell_type": "code",
   "execution_count": 284,
   "metadata": {},
   "outputs": [
    {
     "data": {
      "text/plain": [
       "{'NOTdelici': {'4.0': 438, '5.0': 674, '1.0': 28, '3.0': 135, '2.0': 53},\n",
       " 'NOTlove': {'4.0': 680, '5.0': 842, '1.0': 63, '3.0': 365, '2.0': 164},\n",
       " 'NOTgreat': {'4.0': 1396, '5.0': 1064, '1.0': 432, '3.0': 1745, '2.0': 1078},\n",
       " 'NOTgood': {'4.0': 2319, '5.0': 1992, '1.0': 1598, '3.0': 2283, '2.0': 2142},\n",
       " 'NOTfriend': {'4.0': 628, '5.0': 560, '1.0': 366, '3.0': 511, '2.0': 367},\n",
       " 'order': {'4.0': 17682, '5.0': 17198, '1.0': 9785, '3.0': 10983, '2.0': 8508},\n",
       " 'NOTlike': {'4.0': 3586, '5.0': 3266, '1.0': 1325, '3.0': 2384, '2.0': 1579},\n",
       " 'place': {'4.0': 25594, '5.0': 33353, '1.0': 9078, '3.0': 13192, '2.0': 8613},\n",
       " 'wait': {'4.0': 12469, '5.0': 14225, '1.0': 7658, '3.0': 7273, '2.0': 6265}}"
      ]
     },
     "execution_count": 284,
     "metadata": {},
     "output_type": "execute_result"
    }
   ],
   "source": [
    "all_words"
   ]
  },
  {
   "cell_type": "code",
   "execution_count": 285,
   "metadata": {},
   "outputs": [
    {
     "data": {
      "text/plain": [
       "['NOTdelici',\n",
       " 'NOTlove',\n",
       " 'NOTgreat',\n",
       " 'NOTgood',\n",
       " 'NOTfriend',\n",
       " 'order',\n",
       " 'NOTlike',\n",
       " 'place',\n",
       " 'wait']"
      ]
     },
     "execution_count": 285,
     "metadata": {},
     "output_type": "execute_result"
    }
   ],
   "source": [
    "name=list(all_words.keys())\n",
    "name"
   ]
  },
  {
   "cell_type": "code",
   "execution_count": 286,
   "metadata": {},
   "outputs": [
    {
     "data": {
      "text/plain": [
       "Text(0.5,1,'wait')"
      ]
     },
     "execution_count": 286,
     "metadata": {},
     "output_type": "execute_result"
    },
    {
     "data": {
      "image/png": "[encoded data removed]",
      "text/plain": [
       "<Figure size 1080x1080 with 9 Axes>"
      ]
     },
     "metadata": {},
     "output_type": "display_data"
    }
   ],
   "source": [
    "plt.figure(figsize=(15,15))\n",
    "\n",
    "plt.subplot(331)\n",
    "name=list(all_words.keys())\n",
    "l=sorted(list(all_words[name[0]].keys()))\n",
    "value=[]\n",
    "for i in l:\n",
    "    value.append(all_words[name[0]][i]/star_num[i])\n",
    "plt.bar(l,value, color='r', width=0.2) \n",
    "plt.title(name[0])\n",
    "\n",
    "plt.subplot(332)\n",
    "name=list(all_words.keys())\n",
    "l=sorted(list(all_words[name[1]].keys()))\n",
    "value=[]\n",
    "for i in l:\n",
    "    value.append(all_words[name[1]][i]/star_num[i])\n",
    "plt.bar(l,value, color='r', width=0.2) \n",
    "plt.title(name[1])\n",
    "\n",
    "plt.subplot(333)\n",
    "name=list(all_words.keys())\n",
    "l=sorted(list(all_words[name[2]].keys()))\n",
    "value=[]\n",
    "for i in l:\n",
    "    value.append(all_words[name[2]][i]/star_num[i])\n",
    "plt.bar(l,value, color='r', width=0.2) \n",
    "plt.title(name[2])\n",
    "\n",
    "plt.subplot(334)\n",
    "name=list(all_words.keys())\n",
    "l=sorted(list(all_words[name[3]].keys()))\n",
    "value=[]\n",
    "for i in l:\n",
    "    value.append(all_words[name[3]][i]/star_num[i])\n",
    "plt.bar(l,value, color='r', width=0.2) \n",
    "plt.title(name[3])\n",
    "\n",
    "plt.subplot(335)\n",
    "name=list(all_words.keys())\n",
    "l=sorted(list(all_words[name[4]].keys()))\n",
    "value=[]\n",
    "for i in l:\n",
    "    value.append(all_words[name[4]][i]/star_num[i])\n",
    "plt.bar(l,value, color='r', width=0.2) \n",
    "plt.title(name[4])\n",
    "\n",
    "plt.subplot(336)\n",
    "name=list(all_words.keys())\n",
    "l=sorted(list(all_words[name[5]].keys()))\n",
    "value=[]\n",
    "for i in l:\n",
    "    value.append(all_words[name[5]][i]/star_num[i])\n",
    "plt.bar(l,value, color='r', width=0.2) \n",
    "plt.title(name[5])\n",
    "\n",
    "\n",
    "plt.subplot(337)\n",
    "name=list(all_words.keys())\n",
    "l=sorted(list(all_words[name[6]].keys()))\n",
    "value=[]\n",
    "for i in l:\n",
    "    value.append(all_words[name[6]][i]/star_num[i])\n",
    "plt.bar(l,value, color='r', width=0.2) \n",
    "plt.title(name[6])\n",
    "\n",
    "plt.subplot(338)\n",
    "name=list(all_words.keys())\n",
    "l=sorted(list(all_words[name[7]].keys()))\n",
    "value=[]\n",
    "for i in l:\n",
    "    value.append(all_words[name[7]][i]/star_num[i])\n",
    "plt.bar(l,value, color='r', width=0.2) \n",
    "plt.title(name[7])\n",
    "\n",
    "plt.subplot(339)\n",
    "name=list(all_words.keys())\n",
    "l=sorted(list(all_words[name[8]].keys()))\n",
    "value=[]\n",
    "for i in l:\n",
    "    value.append(all_words[name[8]][i]/star_num[i])\n",
    "plt.bar(l,value, color='r', width=0.2) \n",
    "plt.title(name[8])\n",
    "    "
   ]
  },
  {
   "cell_type": "code",
   "execution_count": null,
   "metadata": {},
   "outputs": [],
   "source": []
  }
 ],
 "metadata": {
  "kernelspec": {
   "display_name": "Python 3",
   "language": "python",
   "name": "python3"
  },
  "language_info": {
   "codemirror_mode": {
    "name": "ipython",
    "version": 3
   },
   "file_extension": ".py",
   "mimetype": "text/x-python",
   "name": "python",
   "nbconvert_exporter": "python",
   "pygments_lexer": "ipython3",
   "version": "3.6.5"
  }
 },
 "nbformat": 4,
 "nbformat_minor": 2
}
