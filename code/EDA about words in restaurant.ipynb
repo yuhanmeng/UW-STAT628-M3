{
 "cells": [
  {
   "cell_type": "code",
   "execution_count": 10,
   "metadata": {},
   "outputs": [],
   "source": [
    "import csv\n",
    "data = [] \n",
    "cf = open(\"/Users/apple/Documents/Wisc/study/2019Fall/STAT 628/Module3/PAreview_clean.csv\",'r', encoding='utf-8',errors='ignore')\n",
    "\n",
    "file = csv.DictReader(cf)\n",
    "\n",
    "for x in file:\n",
    "    line = {'business_id':x['business_id'],'date':x['date'],'stars':x['stars'],'text':x['text']}\n",
    "    data.append(line)\n",
    "\n",
    "cf.close()"
   ]
  },
  {
   "cell_type": "code",
   "execution_count": 13,
   "metadata": {},
   "outputs": [
    {
     "data": {
      "text/plain": [
       "214443"
      ]
     },
     "execution_count": 13,
     "metadata": {},
     "output_type": "execute_result"
    }
   ],
   "source": [
    "len(data)"
   ]
  },
  {
   "cell_type": "code",
   "execution_count": 36,
   "metadata": {},
   "outputs": [
    {
     "data": {
      "text/plain": [
       "'servic'"
      ]
     },
     "execution_count": 36,
     "metadata": {},
     "output_type": "execute_result"
    }
   ],
   "source": [
    "import stemming\n",
    "\n",
    "from stemming.porter2 import stem "
   ]
  },
  {
   "cell_type": "code",
   "execution_count": 45,
   "metadata": {},
   "outputs": [
    {
     "data": {
      "text/plain": [
       "{'1.0', '2.0', '3.0', '4.0', '5.0'}"
      ]
     },
     "execution_count": 45,
     "metadata": {},
     "output_type": "execute_result"
    }
   ],
   "source": [
    "k=[]\n",
    "for i in range(len(data)):\n",
    "    k.append(data[i]['stars'])\n",
    "k_set=set(k)\n",
    "k_set"
   ]
  },
  {
   "cell_type": "markdown",
   "metadata": {},
   "source": [
    "# Find the word's distribution over diff stars"
   ]
  },
  {
   "cell_type": "markdown",
   "metadata": {},
   "source": [
    "# service dist"
   ]
  },
  {
   "cell_type": "code",
   "execution_count": 141,
   "metadata": {},
   "outputs": [
    {
     "data": {
      "text/plain": [
       "'servic'"
      ]
     },
     "execution_count": 141,
     "metadata": {},
     "output_type": "execute_result"
    }
   ],
   "source": [
    "stem('service')"
   ]
  },
  {
   "cell_type": "code",
   "execution_count": 142,
   "metadata": {},
   "outputs": [
    {
     "data": {
      "text/plain": [
       "True"
      ]
     },
     "execution_count": 142,
     "metadata": {},
     "output_type": "execute_result"
    }
   ],
   "source": [
    "'servic' in data[0]['text']"
   ]
  },
  {
   "cell_type": "code",
   "execution_count": 143,
   "metadata": {},
   "outputs": [],
   "source": [
    "service=dict()\n",
    "for i in range(len(data)):\n",
    "    if data[i]['stars'] not in service.keys():\n",
    "        service[data[i]['stars']]=0\n",
    "        if ('servic' in data[i]['text']) or ('service' in data[i]['text']):\n",
    "            service[data[i]['stars']]+=1\n",
    "    else:\n",
    "        if ('servic' in data[i]['text']) or ('service' in data[i]['text']):\n",
    "            service[data[i]['stars']]+=1\n",
    "           \n",
    "    "
   ]
  },
  {
   "cell_type": "code",
   "execution_count": 144,
   "metadata": {},
   "outputs": [
    {
     "data": {
      "text/plain": [
       "{'4.0': 16766, '5.0': 20687, '1.0': 7288, '3.0': 9720, '2.0': 6832}"
      ]
     },
     "execution_count": 144,
     "metadata": {},
     "output_type": "execute_result"
    }
   ],
   "source": [
    "service"
   ]
  },
  {
   "cell_type": "code",
   "execution_count": 145,
   "metadata": {},
   "outputs": [],
   "source": [
    "import matplotlib.pyplot as plt\n",
    "import numpy as np"
   ]
  },
  {
   "cell_type": "code",
   "execution_count": 146,
   "metadata": {},
   "outputs": [
    {
     "data": {
      "text/plain": [
       "['1.0', '2.0', '3.0', '4.0', '5.0']"
      ]
     },
     "execution_count": 146,
     "metadata": {},
     "output_type": "execute_result"
    }
   ],
   "source": [
    "l=sorted(list(service.keys()))\n",
    "l"
   ]
  },
  {
   "cell_type": "code",
   "execution_count": 147,
   "metadata": {},
   "outputs": [
    {
     "data": {
      "text/plain": [
       "[7288, 6832, 9720, 16766, 20687]"
      ]
     },
     "execution_count": 147,
     "metadata": {},
     "output_type": "execute_result"
    }
   ],
   "source": [
    "value=[]\n",
    "for i in l:\n",
    "    value.append(service[i])\n",
    "value"
   ]
  },
  {
   "cell_type": "code",
   "execution_count": 148,
   "metadata": {},
   "outputs": [
    {
     "data": {
      "text/plain": [
       "<BarContainer object of 5 artists>"
      ]
     },
     "execution_count": 148,
     "metadata": {},
     "output_type": "execute_result"
    },
    {
     "data": {
      "image/png": "[encoded data removed]",
      "text/plain": [
       "<Figure size 432x288 with 1 Axes>"
      ]
     },
     "metadata": {},
     "output_type": "display_data"
    }
   ],
   "source": [
    "plt.bar(l,value, color='r', width=0.2)"
   ]
  },
  {
   "cell_type": "markdown",
   "metadata": {},
   "source": [
    "# put all words(positive) we care in a dict"
   ]
  },
  {
   "cell_type": "code",
   "execution_count": 149,
   "metadata": {},
   "outputs": [],
   "source": [
    "words=['service', 'environment', 'atmosphere', 'flavor', 'attitude', 'price']"
   ]
  },
  {
   "cell_type": "code",
   "execution_count": 150,
   "metadata": {},
   "outputs": [
    {
     "data": {
      "text/plain": [
       "['servic', 'environ', 'atmospher', 'flavor', 'attitud', 'price']"
      ]
     },
     "execution_count": 150,
     "metadata": {},
     "output_type": "execute_result"
    }
   ],
   "source": [
    "words_stem=[]\n",
    "for word in words:\n",
    "    words_stem.append(stem(word))\n",
    "words_stem"
   ]
  },
  {
   "cell_type": "code",
   "execution_count": 151,
   "metadata": {},
   "outputs": [],
   "source": [
    "all_words=dict()\n",
    "for word in words_stem:\n",
    "    all_words[word]=dict()\n",
    "    for i in range(len(data)):\n",
    "        if data[i]['stars'] not in all_words[word].keys():\n",
    "            all_words[word][data[i]['stars']]=0\n",
    "        if (word in data[i]['text']) :\n",
    "            all_words[word][data[i]['stars']]+=1\n",
    "    else:\n",
    "        if (word in data[i]['text']):\n",
    "            all_words[word][data[i]['stars']]+=1\n",
    "           \n",
    "    "
   ]
  },
  {
   "cell_type": "code",
   "execution_count": 152,
   "metadata": {},
   "outputs": [
    {
     "data": {
      "text/plain": [
       "{'servic': {'4.0': 16766, '5.0': 20687, '1.0': 7288, '3.0': 9720, '2.0': 6832},\n",
       " 'environ': {'4.0': 725, '5.0': 950, '1.0': 103, '3.0': 355, '2.0': 161},\n",
       " 'atmospher': {'4.0': 6299, '5.0': 8394, '1.0': 588, '3.0': 3070, '2.0': 1390},\n",
       " 'flavor': {'4.0': 8849, '5.0': 9763, '1.0': 1529, '3.0': 4619, '2.0': 2957},\n",
       " 'attitud': {'4.0': 229, '5.0': 207, '1.0': 842, '3.0': 281, '2.0': 428},\n",
       " 'price': {'4.0': 11915, '5.0': 11302, '1.0': 2190, '3.0': 6673, '2.0': 3611}}"
      ]
     },
     "execution_count": 152,
     "metadata": {},
     "output_type": "execute_result"
    }
   ],
   "source": [
    "all_words"
   ]
  },
  {
   "cell_type": "code",
   "execution_count": 153,
   "metadata": {},
   "outputs": [
    {
     "data": {
      "text/plain": [
       "6"
      ]
     },
     "execution_count": 153,
     "metadata": {},
     "output_type": "execute_result"
    }
   ],
   "source": [
    "n=len(all_words)\n",
    "n"
   ]
  },
  {
   "cell_type": "code",
   "execution_count": 154,
   "metadata": {},
   "outputs": [
    {
     "data": {
      "text/plain": [
       "['servic', 'environ', 'atmospher', 'flavor', 'attitud', 'price']"
      ]
     },
     "execution_count": 154,
     "metadata": {},
     "output_type": "execute_result"
    }
   ],
   "source": [
    "list(all_words.keys())"
   ]
  },
  {
   "cell_type": "code",
   "execution_count": 155,
   "metadata": {},
   "outputs": [
    {
     "data": {
      "text/plain": [
       "'environ'"
      ]
     },
     "execution_count": 155,
     "metadata": {},
     "output_type": "execute_result"
    }
   ],
   "source": [
    "name=list(all_words.keys())\n",
    "name[1]\n"
   ]
  },
  {
   "cell_type": "code",
   "execution_count": 156,
   "metadata": {},
   "outputs": [
    {
     "name": "stdout",
     "output_type": "stream",
     "text": [
      "331\n",
      "332\n",
      "333\n",
      "334\n",
      "335\n",
      "336\n"
     ]
    }
   ],
   "source": [
    "for i in range(n):\n",
    "    print(331+i)"
   ]
  },
  {
   "cell_type": "code",
   "execution_count": 157,
   "metadata": {},
   "outputs": [
    {
     "data": {
      "text/plain": [
       "Text(0.5,1,'servic')"
      ]
     },
     "execution_count": 157,
     "metadata": {},
     "output_type": "execute_result"
    },
    {
     "data": {
      "image/png": "[encoded data removed]",
      "text/plain": [
       "<Figure size 1080x1080 with 1 Axes>"
      ]
     },
     "metadata": {},
     "output_type": "display_data"
    }
   ],
   "source": [
    "plt.figure(figsize=(15,15))\n",
    "plt.subplot(331)\n",
    "name=list(all_words.keys())\n",
    "l=sorted(list(all_words[name[0]].keys()))\n",
    "value=[]\n",
    "for i in l:\n",
    "    value.append(all_words[name[0]][i])\n",
    "plt.bar(l,value, color='r', width=0.2) \n",
    "plt.title(name[0])\n"
   ]
  },
  {
   "cell_type": "code",
   "execution_count": 158,
   "metadata": {},
   "outputs": [
    {
     "data": {
      "text/plain": [
       "Text(0.5,1,'price')"
      ]
     },
     "execution_count": 158,
     "metadata": {},
     "output_type": "execute_result"
    },
    {
     "data": {
      "image/png": "[encoded data removed]",
      "text/plain": [
       "<Figure size 1080x1080 with 6 Axes>"
      ]
     },
     "metadata": {},
     "output_type": "display_data"
    }
   ],
   "source": [
    "plt.figure(figsize=(15,15))\n",
    "plt.subplot(331)\n",
    "name=list(all_words.keys())\n",
    "l=sorted(list(all_words[name[0]].keys()))\n",
    "value=[]\n",
    "for i in l:\n",
    "    value.append(all_words[name[0]][i])\n",
    "plt.bar(l,value, color='r', width=0.2) \n",
    "plt.title(name[0])\n",
    "\n",
    "plt.subplot(332)\n",
    "name=list(all_words.keys())\n",
    "l=sorted(list(all_words[name[1]].keys()))\n",
    "value=[]\n",
    "for i in l:\n",
    "    value.append(all_words[name[1]][i])\n",
    "plt.bar(l,value, color='r', width=0.2) \n",
    "plt.title(name[1])\n",
    "\n",
    "plt.subplot(333)\n",
    "name=list(all_words.keys())\n",
    "l=sorted(list(all_words[name[2]].keys()))\n",
    "value=[]\n",
    "for i in l:\n",
    "    value.append(all_words[name[2]][i])\n",
    "plt.bar(l,value, color='r', width=0.2) \n",
    "plt.title(name[2])\n",
    "\n",
    "plt.subplot(334)\n",
    "name=list(all_words.keys())\n",
    "l=sorted(list(all_words[name[3]].keys()))\n",
    "value=[]\n",
    "for i in l:\n",
    "    value.append(all_words[name[3]][i])\n",
    "plt.bar(l,value, color='r', width=0.2) \n",
    "plt.title(name[3])\n",
    "\n",
    "plt.subplot(335)\n",
    "name=list(all_words.keys())\n",
    "l=sorted(list(all_words[name[4]].keys()))\n",
    "value=[]\n",
    "for i in l:\n",
    "    value.append(all_words[name[4]][i])\n",
    "plt.bar(l,value, color='r', width=0.2) \n",
    "plt.title(name[4])\n",
    "\n",
    "plt.subplot(336)\n",
    "name=list(all_words.keys())\n",
    "l=sorted(list(all_words[name[5]].keys()))\n",
    "value=[]\n",
    "for i in l:\n",
    "    value.append(all_words[name[5]][i])\n",
    "plt.bar(l,value, color='r', width=0.2) \n",
    "plt.title(name[5])\n",
    "\n",
    "\n",
    "\n",
    "    "
   ]
  },
  {
   "cell_type": "markdown",
   "metadata": {},
   "source": [
    "#  put all words(negative) we care in a dict"
   ]
  },
  {
   "cell_type": "code",
   "execution_count": 159,
   "metadata": {},
   "outputs": [],
   "source": [
    "words=['NOTservice', 'NOTenvironment', 'NOTatmosphere', 'NOTflavor', 'NOTattitude', 'NOTprice']"
   ]
  },
  {
   "cell_type": "code",
   "execution_count": 160,
   "metadata": {},
   "outputs": [
    {
     "data": {
      "text/plain": [
       "['NOTservic',\n",
       " 'NOTenviron',\n",
       " 'NOTatmospher',\n",
       " 'NOTflavor',\n",
       " 'NOTattitud',\n",
       " 'NOTprice']"
      ]
     },
     "execution_count": 160,
     "metadata": {},
     "output_type": "execute_result"
    }
   ],
   "source": [
    "words_stem=[]\n",
    "for word in words:\n",
    "    words_stem.append(stem(word))\n",
    "words_stem"
   ]
  },
  {
   "cell_type": "code",
   "execution_count": 161,
   "metadata": {},
   "outputs": [],
   "source": [
    "all_words=dict()\n",
    "for word in words_stem:\n",
    "    all_words[word]=dict()\n",
    "    for i in range(len(data)):\n",
    "        if data[i]['stars'] not in all_words[word].keys():\n",
    "            all_words[word][data[i]['stars']]=0\n",
    "        if (word in data[i]['text']) :\n",
    "            all_words[word][data[i]['stars']]+=1\n",
    "    else:\n",
    "        if (word in data[i]['text']):\n",
    "            all_words[word][data[i]['stars']]+=1"
   ]
  },
  {
   "cell_type": "code",
   "execution_count": 162,
   "metadata": {},
   "outputs": [
    {
     "data": {
      "text/plain": [
       "{'NOTservic': {'4.0': 656, '5.0': 581, '1.0': 686, '3.0': 529, '2.0': 577},\n",
       " 'NOTenviron': {'4.0': 33, '5.0': 23, '1.0': 19, '3.0': 27, '2.0': 16},\n",
       " 'NOTatmospher': {'4.0': 183, '5.0': 153, '1.0': 30, '3.0': 133, '2.0': 72},\n",
       " 'NOTflavor': {'4.0': 822, '5.0': 622, '1.0': 192, '3.0': 812, '2.0': 536},\n",
       " 'NOTattitud': {'4.0': 27, '5.0': 19, '1.0': 103, '3.0': 20, '2.0': 48},\n",
       " 'NOTprice': {'4.0': 760, '5.0': 524, '1.0': 338, '3.0': 761, '2.0': 642}}"
      ]
     },
     "execution_count": 162,
     "metadata": {},
     "output_type": "execute_result"
    }
   ],
   "source": [
    "all_words"
   ]
  },
  {
   "cell_type": "code",
   "execution_count": 163,
   "metadata": {},
   "outputs": [
    {
     "data": {
      "text/plain": [
       "['NOTservic',\n",
       " 'NOTenviron',\n",
       " 'NOTatmospher',\n",
       " 'NOTflavor',\n",
       " 'NOTattitud',\n",
       " 'NOTprice']"
      ]
     },
     "execution_count": 163,
     "metadata": {},
     "output_type": "execute_result"
    }
   ],
   "source": [
    "name=list(all_words.keys())\n",
    "name"
   ]
  },
  {
   "cell_type": "code",
   "execution_count": 164,
   "metadata": {},
   "outputs": [
    {
     "data": {
      "text/plain": [
       "Text(0.5,1,'NOTprice')"
      ]
     },
     "execution_count": 164,
     "metadata": {},
     "output_type": "execute_result"
    },
    {
     "data": {
      "image/png": "[encoded data removed]",
      "text/plain": [
       "<Figure size 1080x1080 with 6 Axes>"
      ]
     },
     "metadata": {},
     "output_type": "display_data"
    }
   ],
   "source": [
    "plt.figure(figsize=(15,15))\n",
    "plt.subplot(331)\n",
    "name=list(all_words.keys())\n",
    "l=sorted(list(all_words[name[0]].keys()))\n",
    "value=[]\n",
    "for i in l:\n",
    "    value.append(all_words[name[0]][i])\n",
    "plt.bar(l,value, color='r', width=0.2) \n",
    "plt.title(name[0])\n",
    "\n",
    "plt.subplot(332)\n",
    "name=list(all_words.keys())\n",
    "l=sorted(list(all_words[name[1]].keys()))\n",
    "value=[]\n",
    "for i in l:\n",
    "    value.append(all_words[name[1]][i])\n",
    "plt.bar(l,value, color='r', width=0.2) \n",
    "plt.title(name[1])\n",
    "\n",
    "plt.subplot(333)\n",
    "name=list(all_words.keys())\n",
    "l=sorted(list(all_words[name[2]].keys()))\n",
    "value=[]\n",
    "for i in l:\n",
    "    value.append(all_words[name[2]][i])\n",
    "plt.bar(l,value, color='r', width=0.2) \n",
    "plt.title(name[2])\n",
    "\n",
    "plt.subplot(334)\n",
    "name=list(all_words.keys())\n",
    "l=sorted(list(all_words[name[3]].keys()))\n",
    "value=[]\n",
    "for i in l:\n",
    "    value.append(all_words[name[3]][i])\n",
    "plt.bar(l,value, color='r', width=0.2) \n",
    "plt.title(name[3])\n",
    "\n",
    "plt.subplot(335)\n",
    "name=list(all_words.keys())\n",
    "l=sorted(list(all_words[name[4]].keys()))\n",
    "value=[]\n",
    "for i in l:\n",
    "    value.append(all_words[name[4]][i])\n",
    "plt.bar(l,value, color='r', width=0.2) \n",
    "plt.title(name[4])\n",
    "\n",
    "plt.subplot(336)\n",
    "name=list(all_words.keys())\n",
    "l=sorted(list(all_words[name[5]].keys()))\n",
    "value=[]\n",
    "for i in l:\n",
    "    value.append(all_words[name[5]][i])\n",
    "plt.bar(l,value, color='r', width=0.2) \n",
    "plt.title(name[5])\n",
    "\n",
    "\n",
    "\n",
    "    "
   ]
  },
  {
   "cell_type": "code",
   "execution_count": null,
   "metadata": {},
   "outputs": [],
   "source": []
  }
 ],
 "metadata": {
  "kernelspec": {
   "display_name": "Python 3",
   "language": "python",
   "name": "python3"
  },
  "language_info": {
   "codemirror_mode": {
    "name": "ipython",
    "version": 3
   },
   "file_extension": ".py",
   "mimetype": "text/x-python",
   "name": "python",
   "nbconvert_exporter": "python",
   "pygments_lexer": "ipython3",
   "version": "3.6.5"
  }
 },
 "nbformat": 4,
 "nbformat_minor": 2
}
