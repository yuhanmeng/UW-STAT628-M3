{
 "cells": [
  {
   "cell_type": "code",
   "execution_count": 14,
   "metadata": {},
   "outputs": [],
   "source": [
    "import pandas as pd\n",
    "\n",
    "data=pd.read_csv(\"/Users/apple/Documents/Wisc/study/2019Fall/STAT 628/Module3/PA_business.csv\")"
   ]
  },
  {
   "cell_type": "code",
   "execution_count": 15,
   "metadata": {},
   "outputs": [
    {
     "data": {
      "text/plain": [
       "0    Sandwiches, Salad, Restaurants, Burgers, Comfo...\n",
       "1    Nightlife, Bars, Polish, Modern European, Rest...\n",
       "2                    Japanese, Sushi Bars, Restaurants\n",
       "3                  American (Traditional), Restaurants\n",
       "4                           Beer, Wine & Spirits, Food\n",
       "5                               Restaurants, Caribbean\n",
       "Name: categories, dtype: object"
      ]
     },
     "execution_count": 15,
     "metadata": {},
     "output_type": "execute_result"
    }
   ],
   "source": [
    "data.loc[0:5,\"categories\"]"
   ]
  },
  {
   "cell_type": "code",
   "execution_count": 16,
   "metadata": {},
   "outputs": [
    {
     "data": {
      "text/plain": [
       "['Sandwiches', ' Salad', ' Restaurants', ' Burgers', ' Comfort Food']"
      ]
     },
     "execution_count": 16,
     "metadata": {},
     "output_type": "execute_result"
    }
   ],
   "source": [
    "l=list()\n",
    "for i in range(len(data)):\n",
    "    s=data.loc[i,\"categories\"]\n",
    "    if type(s)==str:\n",
    "        words=s.split(\",\")\n",
    "        for word in words:\n",
    "            l.append(word)\n",
    "    \n",
    "l[0:5]"
   ]
  },
  {
   "cell_type": "code",
   "execution_count": 17,
   "metadata": {},
   "outputs": [],
   "source": [
    "d=dict()\n",
    "for i in l:\n",
    "    if i not in d.keys():\n",
    "        d[i]=1\n",
    "    else:\n",
    "        d[i]=d[i]+1"
   ]
  },
  {
   "cell_type": "code",
   "execution_count": 18,
   "metadata": {},
   "outputs": [],
   "source": [
    "l=[]\n",
    "for c in d.keys():\n",
    "    l.append(c.lower().strip())"
   ]
  },
  {
   "cell_type": "code",
   "execution_count": 19,
   "metadata": {},
   "outputs": [
    {
     "data": {
      "text/plain": [
       "['sandwiches', 'salad', 'restaurants', 'burgers', 'comfort food']"
      ]
     },
     "execution_count": 19,
     "metadata": {},
     "output_type": "execute_result"
    }
   ],
   "source": [
    "l[0:5]"
   ]
  },
  {
   "cell_type": "code",
   "execution_count": 20,
   "metadata": {},
   "outputs": [],
   "source": [
    "t=set(l)"
   ]
  },
  {
   "cell_type": "code",
   "execution_count": 21,
   "metadata": {},
   "outputs": [],
   "source": [
    "d=list(t)"
   ]
  },
  {
   "cell_type": "code",
   "execution_count": 23,
   "metadata": {},
   "outputs": [],
   "source": [
    "delete_cate=['grocery','convenience stores','gas stations','hotels & travel', 'wholesalers',\n",
    "            'shopping','drugstores','books','mags','music & video','videos & video game rental','international grocery',\n",
    "            'drugstores','candy stores','hotels & travel','hiking','tennis','hotels','apartments','toy stores','gyms','farms']"
   ]
  },
  {
   "cell_type": "code",
   "execution_count": 24,
   "metadata": {},
   "outputs": [],
   "source": [
    "l=list()#find the business id with no delete_categories\n",
    "num=list()\n",
    "for i in range(len(data)):\n",
    "    s=data.loc[i,\"categories\"]\n",
    "    if type(s)==str:\n",
    "        words=s.split(\",\")\n",
    "        for word in words:\n",
    "            if word.lower().strip() in delete_cate:\n",
    "                l.append(data.loc[i,\"business_id\"])\n",
    "                num.append(i)\n",
    "                break\n",
    "    "
   ]
  },
  {
   "cell_type": "code",
   "execution_count": 25,
   "metadata": {},
   "outputs": [
    {
     "data": {
      "text/plain": [
       "546"
      ]
     },
     "execution_count": 25,
     "metadata": {},
     "output_type": "execute_result"
    }
   ],
   "source": [
    "len(num)"
   ]
  },
  {
   "cell_type": "code",
   "execution_count": 26,
   "metadata": {},
   "outputs": [
    {
     "data": {
      "text/plain": [
       "'Playgrounds, Community Service/Non-Profit, Tennis, Swimming Pools, Travel Services, Hotels & Travel, Restaurants, Hiking, Visitor Centers, Skating Rinks, Active Life, Beaches, Local Services, Parks, Cafes'"
      ]
     },
     "execution_count": 26,
     "metadata": {},
     "output_type": "execute_result"
    }
   ],
   "source": [
    "data.loc[144,'categories']"
   ]
  },
  {
   "cell_type": "code",
   "execution_count": 27,
   "metadata": {},
   "outputs": [
    {
     "data": {
      "text/plain": [
       "['s-lwOqEEWb_peWh8DhhWUg',\n",
       " '9sb2IZIYc3KnotJ2dM0dNQ',\n",
       " 'vgGijxITEbgF44fkG-lGJw',\n",
       " 'w43yHlJzoCEqUVNRezo_7A',\n",
       " 'L0DJ7-GUDMLIlIR-7vykvQ']"
      ]
     },
     "execution_count": 27,
     "metadata": {},
     "output_type": "execute_result"
    }
   ],
   "source": [
    "l[0:5]"
   ]
  },
  {
   "cell_type": "code",
   "execution_count": 28,
   "metadata": {},
   "outputs": [],
   "source": [
    "index=0\n",
    "my_dict=dict()\n",
    "for i in range(len(data)):\n",
    "    if data.loc[i,\"business_id\"] not in l:\n",
    "        my_dict[index]=data.iloc[i,1:]\n",
    "        index=index+1\n",
    "        \n"
   ]
  },
  {
   "cell_type": "code",
   "execution_count": 29,
   "metadata": {},
   "outputs": [],
   "source": [
    "df1=pd.DataFrame.from_dict(my_dict)"
   ]
  },
  {
   "cell_type": "code",
   "execution_count": 30,
   "metadata": {},
   "outputs": [],
   "source": [
    "df=df1.T"
   ]
  },
  {
   "cell_type": "code",
   "execution_count": 31,
   "metadata": {},
   "outputs": [],
   "source": [
    "df.to_csv('/Users/apple/Documents/Wisc/study/2019Fall/STAT 628/Module3/PA_business_cleaning.csv')"
   ]
  },
  {
   "cell_type": "code",
   "execution_count": null,
   "metadata": {},
   "outputs": [],
   "source": []
  }
 ],
 "metadata": {
  "kernelspec": {
   "display_name": "Python 3",
   "language": "python",
   "name": "python3"
  },
  "language_info": {
   "codemirror_mode": {
    "name": "ipython",
    "version": 3
   },
   "file_extension": ".py",
   "mimetype": "text/x-python",
   "name": "python",
   "nbconvert_exporter": "python",
   "pygments_lexer": "ipython3",
   "version": "3.6.5"
  }
 },
 "nbformat": 4,
 "nbformat_minor": 2
}
