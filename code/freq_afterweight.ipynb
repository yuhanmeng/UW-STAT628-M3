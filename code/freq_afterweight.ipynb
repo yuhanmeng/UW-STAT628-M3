{
 "cells": [
  {
   "cell_type": "code",
   "execution_count": 1,
   "metadata": {},
   "outputs": [
    {
     "data": {
      "text/plain": [
       "'/Users/wangqiaoyu/Desktop/UW-Madion /628/Module3'"
      ]
     },
     "execution_count": 1,
     "metadata": {},
     "output_type": "execute_result"
    }
   ],
   "source": [
    "import numpy as np\n",
    "import pandas as pd\n",
    "import os\n",
    "import csv\n",
    "os.getcwd()"
   ]
  },
  {
   "cell_type": "code",
   "execution_count": 2,
   "metadata": {},
   "outputs": [],
   "source": [
    "PAfood = pd.read_csv('./data/PAreview.csv')"
   ]
  },
  {
   "cell_type": "code",
   "execution_count": 3,
   "metadata": {},
   "outputs": [
    {
     "data": {
      "text/plain": [
       "214443"
      ]
     },
     "execution_count": 3,
     "metadata": {},
     "output_type": "execute_result"
    }
   ],
   "source": [
    "len(PAfood)"
   ]
  },
  {
   "cell_type": "code",
   "execution_count": 4,
   "metadata": {},
   "outputs": [
    {
     "data": {
      "text/html": [
       "<div>\n",
       "<style scoped>\n",
       "    .dataframe tbody tr th:only-of-type {\n",
       "        vertical-align: middle;\n",
       "    }\n",
       "\n",
       "    .dataframe tbody tr th {\n",
       "        vertical-align: top;\n",
       "    }\n",
       "\n",
       "    .dataframe thead th {\n",
       "        text-align: right;\n",
       "    }\n",
       "</style>\n",
       "<table border=\"1\" class=\"dataframe\">\n",
       "  <thead>\n",
       "    <tr style=\"text-align: right;\">\n",
       "      <th></th>\n",
       "      <th>Unnamed: 0</th>\n",
       "      <th>review_id</th>\n",
       "      <th>user_id</th>\n",
       "      <th>business_id</th>\n",
       "      <th>stars</th>\n",
       "      <th>useful</th>\n",
       "      <th>funny</th>\n",
       "      <th>cool</th>\n",
       "      <th>text</th>\n",
       "      <th>date</th>\n",
       "    </tr>\n",
       "  </thead>\n",
       "  <tbody>\n",
       "    <tr>\n",
       "      <td>0</td>\n",
       "      <td>0</td>\n",
       "      <td>fdiNeiN_hoCxCMy2wTRW9g</td>\n",
       "      <td>w31MKYsNFMrjhWxxAb5wIw</td>\n",
       "      <td>eU_713ec6fTGNO4BegRaww</td>\n",
       "      <td>4.0</td>\n",
       "      <td>0</td>\n",
       "      <td>0</td>\n",
       "      <td>0</td>\n",
       "      <td>I'll be the first to admit that I was not exci...</td>\n",
       "      <td>2013-01-20 13:25:59</td>\n",
       "    </tr>\n",
       "    <tr>\n",
       "      <td>1</td>\n",
       "      <td>1</td>\n",
       "      <td>Z7wgXp98wYB57QdRY3HQ3w</td>\n",
       "      <td>GYNnVehQeXjty0xH7-6Fhw</td>\n",
       "      <td>FxLfqxdYPA6Z85PFKaqLrg</td>\n",
       "      <td>4.0</td>\n",
       "      <td>0</td>\n",
       "      <td>0</td>\n",
       "      <td>0</td>\n",
       "      <td>Wow. So surprised at the one and two star revi...</td>\n",
       "      <td>2016-05-07 01:36:53</td>\n",
       "    </tr>\n",
       "    <tr>\n",
       "      <td>2</td>\n",
       "      <td>2</td>\n",
       "      <td>IPw8yWiyqnfBzzWmypUHgg</td>\n",
       "      <td>5JVY32_bmTBfIGpCCsnAfw</td>\n",
       "      <td>Mem13A3C202RzT53npn4NA</td>\n",
       "      <td>5.0</td>\n",
       "      <td>9</td>\n",
       "      <td>6</td>\n",
       "      <td>9</td>\n",
       "      <td>If you are looking for the best pierogies in P...</td>\n",
       "      <td>2017-05-13 10:41:43</td>\n",
       "    </tr>\n",
       "    <tr>\n",
       "      <td>3</td>\n",
       "      <td>3</td>\n",
       "      <td>1daGBpea0sleayFeeXuoYw</td>\n",
       "      <td>q3GeSW9dWN9r_ocqFkhrvg</td>\n",
       "      <td>9nTF596jDvBBia2EXXiOOg</td>\n",
       "      <td>1.0</td>\n",
       "      <td>1</td>\n",
       "      <td>0</td>\n",
       "      <td>0</td>\n",
       "      <td>if i can give this place no stars i would, i o...</td>\n",
       "      <td>2014-04-19 15:03:17</td>\n",
       "    </tr>\n",
       "    <tr>\n",
       "      <td>4</td>\n",
       "      <td>4</td>\n",
       "      <td>RLbWoIri29BcQ8yjzsvQLQ</td>\n",
       "      <td>_o740mSNRhMNYuPjSJoPLg</td>\n",
       "      <td>sMzNLdhJZGzYirIWt-fMAg</td>\n",
       "      <td>5.0</td>\n",
       "      <td>0</td>\n",
       "      <td>0</td>\n",
       "      <td>0</td>\n",
       "      <td>This place epitomizes the rumored transformati...</td>\n",
       "      <td>2015-06-21 00:59:14</td>\n",
       "    </tr>\n",
       "  </tbody>\n",
       "</table>\n",
       "</div>"
      ],
      "text/plain": [
       "   Unnamed: 0               review_id                 user_id  \\\n",
       "0           0  fdiNeiN_hoCxCMy2wTRW9g  w31MKYsNFMrjhWxxAb5wIw   \n",
       "1           1  Z7wgXp98wYB57QdRY3HQ3w  GYNnVehQeXjty0xH7-6Fhw   \n",
       "2           2  IPw8yWiyqnfBzzWmypUHgg  5JVY32_bmTBfIGpCCsnAfw   \n",
       "3           3  1daGBpea0sleayFeeXuoYw  q3GeSW9dWN9r_ocqFkhrvg   \n",
       "4           4  RLbWoIri29BcQ8yjzsvQLQ  _o740mSNRhMNYuPjSJoPLg   \n",
       "\n",
       "              business_id  stars  useful  funny  cool  \\\n",
       "0  eU_713ec6fTGNO4BegRaww    4.0       0      0     0   \n",
       "1  FxLfqxdYPA6Z85PFKaqLrg    4.0       0      0     0   \n",
       "2  Mem13A3C202RzT53npn4NA    5.0       9      6     9   \n",
       "3  9nTF596jDvBBia2EXXiOOg    1.0       1      0     0   \n",
       "4  sMzNLdhJZGzYirIWt-fMAg    5.0       0      0     0   \n",
       "\n",
       "                                                text                 date  \n",
       "0  I'll be the first to admit that I was not exci...  2013-01-20 13:25:59  \n",
       "1  Wow. So surprised at the one and two star revi...  2016-05-07 01:36:53  \n",
       "2  If you are looking for the best pierogies in P...  2017-05-13 10:41:43  \n",
       "3  if i can give this place no stars i would, i o...  2014-04-19 15:03:17  \n",
       "4  This place epitomizes the rumored transformati...  2015-06-21 00:59:14  "
      ]
     },
     "execution_count": 4,
     "metadata": {},
     "output_type": "execute_result"
    }
   ],
   "source": [
    "PAfood.head()"
   ]
  },
  {
   "cell_type": "code",
   "execution_count": 5,
   "metadata": {},
   "outputs": [
    {
     "name": "stdout",
     "output_type": "stream",
     "text": [
      "248537\n"
     ]
    }
   ],
   "source": [
    "useful_number=0\n",
    "for i in range(len(PAfood)):\n",
    "    useful_number+=PAfood[\"useful\"][i]\n",
    "print(useful_number)    "
   ]
  },
  {
   "cell_type": "code",
   "execution_count": 6,
   "metadata": {},
   "outputs": [
    {
     "name": "stdout",
     "output_type": "stream",
     "text": [
      "0.8628212298370062\n"
     ]
    }
   ],
   "source": [
    "#Calculate the weight of useful relative to review\n",
    "weight=len(PAfood)/useful_number\n",
    "print(weight)"
   ]
  },
  {
   "cell_type": "code",
   "execution_count": 7,
   "metadata": {},
   "outputs": [],
   "source": [
    "data = []\n",
    "file = open('./data/PAreview_clean_fre.csv','r', encoding='utf-8',errors='ignore')\n",
    "myfile = csv.DictReader(file)\n",
    "for x in myfile:\n",
    "    line = {'business_id':x['business_id'],'freq':x['freq'],'useful':x['useful']}\n",
    "    data.append(line)\n",
    "file.close()\n",
    "\n"
   ]
  },
  {
   "cell_type": "code",
   "execution_count": 8,
   "metadata": {},
   "outputs": [],
   "source": [
    "#Transfer the string to dic\n",
    "for k in range(len(data)):\n",
    "    data[k]['freq']=eval(data[k]['freq'])"
   ]
  },
  {
   "cell_type": "code",
   "execution_count": 9,
   "metadata": {},
   "outputs": [],
   "source": [
    "#Add the influence of useful to frequency\n",
    "for i in range(len(data)):\n",
    "    for j in range(len(data[i]['freq'])):\n",
    "        data[i]['freq'][j] = list(data[i]['freq'][j])\n",
    "        data[i]['freq'][j][1] = data[i]['freq'][j][1]*(1+int(data[i]['useful'])*weight)"
   ]
  },
  {
   "cell_type": "code",
   "execution_count": 65,
   "metadata": {},
   "outputs": [],
   "source": [
    "# We need to combine all reviews of single one review\n",
    "def combinebusi(mylist):\n",
    "    dic={}\n",
    "    keys = []\n",
    "    values = []\n",
    "    dic['business'] = mylist[0]['business_id']\n",
    "    for i in mylist:\n",
    "        for j in i['freq']:\n",
    "            if j[0] not in keys:\n",
    "                keys.append(j[0])\n",
    "                values.append(j[1])\n",
    "            else:\n",
    "                values[keys.index(j[0])]+=j[1]\n",
    "    dictionary = dict(zip(keys, values))\n",
    "    dic['freq'] = dictionary\n",
    "    return dic\n",
    "     "
   ]
  },
  {
   "cell_type": "code",
   "execution_count": 69,
   "metadata": {},
   "outputs": [],
   "source": [
    "bu_id = []\n",
    "data_list = []\n",
    "for onedata in data:\n",
    "    p=p+1\n",
    "    oneid = onedata[\"business_id\"]\n",
    "    temp = {}\n",
    "    if oneid not in bu_id:\n",
    "        bu_id.append(oneid)\n",
    "        temp_list = filter(lambda x: x[\"business_id\"] == onedata[\"business_id\"], data)\n",
    "        temp = combinebusi(list(temp_list))\n",
    "        data_list.append(temp)\n",
    "    else:\n",
    "        continue\n"
   ]
  },
  {
   "cell_type": "code",
   "execution_count": 76,
   "metadata": {},
   "outputs": [],
   "source": [
    "df=pd.DataFrame.from_dict(data_list)"
   ]
  },
  {
   "cell_type": "code",
   "execution_count": 77,
   "metadata": {},
   "outputs": [
    {
     "data": {
      "text/html": [
       "<div>\n",
       "<style scoped>\n",
       "    .dataframe tbody tr th:only-of-type {\n",
       "        vertical-align: middle;\n",
       "    }\n",
       "\n",
       "    .dataframe tbody tr th {\n",
       "        vertical-align: top;\n",
       "    }\n",
       "\n",
       "    .dataframe thead th {\n",
       "        text-align: right;\n",
       "    }\n",
       "</style>\n",
       "<table border=\"1\" class=\"dataframe\">\n",
       "  <thead>\n",
       "    <tr style=\"text-align: right;\">\n",
       "      <th></th>\n",
       "      <th>business</th>\n",
       "      <th>freq</th>\n",
       "    </tr>\n",
       "  </thead>\n",
       "  <tbody>\n",
       "    <tr>\n",
       "      <td>0</td>\n",
       "      <td>eU_713ec6fTGNO4BegRaww</td>\n",
       "      <td>{'good': 358.4925141930577, 'also': 137.830838...</td>\n",
       "    </tr>\n",
       "    <tr>\n",
       "      <td>1</td>\n",
       "      <td>FxLfqxdYPA6Z85PFKaqLrg</td>\n",
       "      <td>{'delici': 6.862821229837007, 'salad': 51.5128...</td>\n",
       "    </tr>\n",
       "    <tr>\n",
       "      <td>2</td>\n",
       "      <td>Mem13A3C202RzT53npn4NA</td>\n",
       "      <td>{'best': 75.31798887087234, 'pierogi': 441.886...</td>\n",
       "    </tr>\n",
       "    <tr>\n",
       "      <td>3</td>\n",
       "      <td>9nTF596jDvBBia2EXXiOOg</td>\n",
       "      <td>{'hot': 72.6102793547842, 'pot': 62.1589944354...</td>\n",
       "    </tr>\n",
       "    <tr>\n",
       "      <td>4</td>\n",
       "      <td>sMzNLdhJZGzYirIWt-fMAg</td>\n",
       "      <td>{'pittsburgh': 275.22832415294295, 'place': 10...</td>\n",
       "    </tr>\n",
       "    <tr>\n",
       "      <td>...</td>\n",
       "      <td>...</td>\n",
       "      <td>...</td>\n",
       "    </tr>\n",
       "    <tr>\n",
       "      <td>4519</td>\n",
       "      <td>KDiUpLL46cgoiWIM_UyR6g</td>\n",
       "      <td>{'good': 54.82695534266528, 'delici': 2.862821...</td>\n",
       "    </tr>\n",
       "    <tr>\n",
       "      <td>4520</td>\n",
       "      <td>w1YYythIAHHUXR_HrbFtew</td>\n",
       "      <td>{'bar': 11.176927379022036, 'food': 6.58846368...</td>\n",
       "    </tr>\n",
       "    <tr>\n",
       "      <td>4521</td>\n",
       "      <td>oJ2ubid01aI4n1cdIwteYw</td>\n",
       "      <td>{'downtown': 18.491033528207065, 'come': 33.88...</td>\n",
       "    </tr>\n",
       "    <tr>\n",
       "      <td>4522</td>\n",
       "      <td>MG5Mwc-dA34-L2LUCv43jg</td>\n",
       "      <td>{'mango': 2.0, 'qq': 3.862821229837006, 'littl...</td>\n",
       "    </tr>\n",
       "    <tr>\n",
       "      <td>4523</td>\n",
       "      <td>WAagBTVAylf-LXc3PNoRZQ</td>\n",
       "      <td>{'burger': 22.0, 'flipt': 9.0, 'option': 7.0, ...</td>\n",
       "    </tr>\n",
       "  </tbody>\n",
       "</table>\n",
       "<p>4524 rows × 2 columns</p>\n",
       "</div>"
      ],
      "text/plain": [
       "                    business  \\\n",
       "0     eU_713ec6fTGNO4BegRaww   \n",
       "1     FxLfqxdYPA6Z85PFKaqLrg   \n",
       "2     Mem13A3C202RzT53npn4NA   \n",
       "3     9nTF596jDvBBia2EXXiOOg   \n",
       "4     sMzNLdhJZGzYirIWt-fMAg   \n",
       "...                      ...   \n",
       "4519  KDiUpLL46cgoiWIM_UyR6g   \n",
       "4520  w1YYythIAHHUXR_HrbFtew   \n",
       "4521  oJ2ubid01aI4n1cdIwteYw   \n",
       "4522  MG5Mwc-dA34-L2LUCv43jg   \n",
       "4523  WAagBTVAylf-LXc3PNoRZQ   \n",
       "\n",
       "                                                   freq  \n",
       "0     {'good': 358.4925141930577, 'also': 137.830838...  \n",
       "1     {'delici': 6.862821229837007, 'salad': 51.5128...  \n",
       "2     {'best': 75.31798887087234, 'pierogi': 441.886...  \n",
       "3     {'hot': 72.6102793547842, 'pot': 62.1589944354...  \n",
       "4     {'pittsburgh': 275.22832415294295, 'place': 10...  \n",
       "...                                                 ...  \n",
       "4519  {'good': 54.82695534266528, 'delici': 2.862821...  \n",
       "4520  {'bar': 11.176927379022036, 'food': 6.58846368...  \n",
       "4521  {'downtown': 18.491033528207065, 'come': 33.88...  \n",
       "4522  {'mango': 2.0, 'qq': 3.862821229837006, 'littl...  \n",
       "4523  {'burger': 22.0, 'flipt': 9.0, 'option': 7.0, ...  \n",
       "\n",
       "[4524 rows x 2 columns]"
      ]
     },
     "execution_count": 77,
     "metadata": {},
     "output_type": "execute_result"
    }
   ],
   "source": [
    "df"
   ]
  },
  {
   "cell_type": "code",
   "execution_count": 78,
   "metadata": {},
   "outputs": [],
   "source": [
    "# make a output of csv\n",
    "df.to_csv('/Users/wangqiaoyu/Desktop/UW-Madion /628/Module3/data/freq_afterweight.csv') "
   ]
  }
 ],
 "metadata": {
  "kernelspec": {
   "display_name": "Python 3",
   "language": "python",
   "name": "python3"
  },
  "language_info": {
   "codemirror_mode": {
    "name": "ipython",
    "version": 3
   },
   "file_extension": ".py",
   "mimetype": "text/x-python",
   "name": "python",
   "nbconvert_exporter": "python",
   "pygments_lexer": "ipython3",
   "version": "3.6.8"
  }
 },
 "nbformat": 4,
 "nbformat_minor": 2
}
